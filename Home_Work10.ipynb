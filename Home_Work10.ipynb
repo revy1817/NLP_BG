{
  "nbformat": 4,
  "nbformat_minor": 0,
  "metadata": {
    "accelerator": "GPU",
    "colab": {
      "name": "nmt_with_attention.ipynb",
      "provenance": [],
      "collapsed_sections": [],
      "include_colab_link": true
    },
    "kernelspec": {
      "display_name": "Python 3",
      "name": "python3"
    }
  },
  "cells": [
    {
      "cell_type": "markdown",
      "metadata": {
        "id": "view-in-github",
        "colab_type": "text"
      },
      "source": [
        "<a href=\"https://colab.research.google.com/github/revy1817/NLP_BG/blob/main/Home_Work10.ipynb\" target=\"_parent\"><img src=\"https://colab.research.google.com/assets/colab-badge.svg\" alt=\"Open In Colab\"/></a>"
      ]
    },
    {
      "cell_type": "markdown",
      "metadata": {
        "id": "J0Qjg6vuaHNt"
      },
      "source": [
        "# Neural machine translation with attention"
      ]
    },
    {
      "cell_type": "code",
      "metadata": {
        "id": "tnxXKDjq3jEL"
      },
      "source": [
        "import tensorflow as tf\n",
        "\n",
        "import matplotlib.pyplot as plt\n",
        "import matplotlib.ticker as ticker\n",
        "from sklearn.model_selection import train_test_split\n",
        "\n",
        "import unicodedata\n",
        "import re\n",
        "import numpy as np\n",
        "import os\n",
        "import io\n",
        "import time"
      ],
      "execution_count": 1,
      "outputs": []
    },
    {
      "cell_type": "markdown",
      "metadata": {
        "id": "wfodePkj3jEa"
      },
      "source": [
        "## Download and prepare the dataset\n",
        "\n",
        "We'll use a language dataset provided by http://www.manythings.org/anki/"
      ]
    },
    {
      "cell_type": "code",
      "metadata": {
        "id": "CNvjhDyAKk3U",
        "colab": {
          "base_uri": "https://localhost:8080/"
        },
        "outputId": "03933118-7084-4fb0-dff6-6bfbb183e754"
      },
      "source": [
        "!wget http://www.manythings.org/anki/rus-eng.zip"
      ],
      "execution_count": 2,
      "outputs": [
        {
          "output_type": "stream",
          "name": "stdout",
          "text": [
            "--2022-08-17 10:09:19--  http://www.manythings.org/anki/rus-eng.zip\n",
            "Resolving www.manythings.org (www.manythings.org)... 173.254.30.110\n",
            "Connecting to www.manythings.org (www.manythings.org)|173.254.30.110|:80... connected.\n",
            "HTTP request sent, awaiting response... 200 OK\n",
            "Length: 14819554 (14M) [application/zip]\n",
            "Saving to: ‘rus-eng.zip’\n",
            "\n",
            "rus-eng.zip         100%[===================>]  14.13M  14.0MB/s    in 1.0s    \n",
            "\n",
            "2022-08-17 10:09:20 (14.0 MB/s) - ‘rus-eng.zip’ saved [14819554/14819554]\n",
            "\n"
          ]
        }
      ]
    },
    {
      "cell_type": "code",
      "metadata": {
        "id": "83bg17Lr-7XK",
        "colab": {
          "base_uri": "https://localhost:8080/"
        },
        "outputId": "5858ebab-26e7-4b13-e077-83104fad4e3a"
      },
      "source": [
        "!mkdir rus-eng\n",
        "!unzip rus-eng.zip -d rus-eng/"
      ],
      "execution_count": 3,
      "outputs": [
        {
          "output_type": "stream",
          "name": "stdout",
          "text": [
            "Archive:  rus-eng.zip\n",
            "  inflating: rus-eng/rus.txt         \n",
            "  inflating: rus-eng/_about.txt      \n"
          ]
        }
      ]
    },
    {
      "cell_type": "code",
      "metadata": {
        "id": "7o5L92efMMhf",
        "colab": {
          "base_uri": "https://localhost:8080/"
        },
        "outputId": "48b6b35e-dd1c-4ab4-dbf6-759a926c19b9"
      },
      "source": [
        "!ls /content/rus-eng/ -lah"
      ],
      "execution_count": 4,
      "outputs": [
        {
          "output_type": "stream",
          "name": "stdout",
          "text": [
            "total 71M\n",
            "drwxr-xr-x 2 root root 4.0K Aug 17 10:09 .\n",
            "drwxr-xr-x 1 root root 4.0K Aug 17 10:09 ..\n",
            "-rw-r--r-- 1 root root 1.5K May  2 01:29 _about.txt\n",
            "-rw-r--r-- 1 root root  71M May  2 01:29 rus.txt\n"
          ]
        }
      ]
    },
    {
      "cell_type": "code",
      "metadata": {
        "id": "kRVATYOgJs1b"
      },
      "source": [
        "# Download the file\n",
        "path_to_file = \"/content/rus-eng/rus.txt\""
      ],
      "execution_count": 5,
      "outputs": []
    },
    {
      "cell_type": "code",
      "metadata": {
        "id": "rd0jw-eC3jEh"
      },
      "source": [
        "def preprocess_sentence(w):\n",
        "  w = w.lower().strip()\n",
        "\n",
        "  # creating a space between a word and the punctuation following it\n",
        "  # eg: \"he is a boy.\" => \"he is a boy .\"\n",
        "  # Reference:- https://stackoverflow.com/questions/3645931/python-padding-punctuation-with-white-spaces-keeping-punctuation\n",
        "  w = re.sub(r\"([?.!,])\", r\" \\1 \", w)\n",
        "  w = re.sub(r'[\" \"]+', \" \", w)\n",
        "\n",
        "  # replacing everything with space except (a-z, A-Z, \".\", \"?\", \"!\", \",\")\n",
        "  w = re.sub(r\"[^a-zA-Zа-яА-Я?.!,']+\", \" \", w)\n",
        "\n",
        "  w = w.strip()\n",
        "\n",
        "  # adding a start and an end token to the sentence\n",
        "  # so that the model know when to start and stop predicting.\n",
        "  w = '<start> ' + w + ' <end>'\n",
        "  return w"
      ],
      "execution_count": 6,
      "outputs": []
    },
    {
      "cell_type": "code",
      "metadata": {
        "id": "yV9lZXQXNbnH",
        "colab": {
          "base_uri": "https://localhost:8080/",
          "height": 35
        },
        "outputId": "faf54227-f8e0-4f35-f983-54a8d37fe988"
      },
      "source": [
        "preprocess_sentence(\"I can't go.\")"
      ],
      "execution_count": 7,
      "outputs": [
        {
          "output_type": "execute_result",
          "data": {
            "text/plain": [
              "\"<start> i can't go . <end>\""
            ],
            "application/vnd.google.colaboratory.intrinsic+json": {
              "type": "string"
            }
          },
          "metadata": {},
          "execution_count": 7
        }
      ]
    },
    {
      "cell_type": "code",
      "metadata": {
        "id": "OHn4Dct23jEm"
      },
      "source": [
        "# 1. Remove the accents\n",
        "# 2. Clean the sentences\n",
        "# 3. Return word pairs in the format: [ENG, RUS]\n",
        "def create_dataset(path, num_examples):\n",
        "  lines = io.open(path, encoding='UTF-8').read().strip().split('\\n')\n",
        "\n",
        "  word_pairs = [[preprocess_sentence(w) for w in l.split('\\t')[:2]]  for l in lines[:num_examples]]\n",
        "\n",
        "  return zip(*word_pairs)"
      ],
      "execution_count": 8,
      "outputs": []
    },
    {
      "cell_type": "code",
      "metadata": {
        "id": "cTbSbBz55QtF",
        "colab": {
          "base_uri": "https://localhost:8080/"
        },
        "outputId": "75bd9ab5-a5d7-4dfa-d0b7-a62168f1550c"
      },
      "source": [
        "en, ru = create_dataset(path_to_file, None)\n",
        "print(en[-1])\n",
        "print(ru[-1])"
      ],
      "execution_count": 9,
      "outputs": [
        {
          "output_type": "stream",
          "name": "stdout",
          "text": [
            "<start> doubtless there exists in this world precisely the right woman for any given man to marry and vice versa but when you consider that a human being has the opportunity of being acquainted with only a few hundred people , and out of the few hundred that there are but a dozen or less whom he knows intimately , and out of the dozen , one or two friends at most , it will easily be seen , when we remember the number of millions who inhabit this world , that probably , since the earth was created , the right man has never yet met the right woman . <end>\n",
            "<start> несомненно , для каждого мужчины в этом мире где то есть подходящая женщина , которая может стать ему женой , обратное верно и для женщин . но если учесть , что у человека может быть максимум несколько сотен знакомых , из которых лишь дюжина , а то и меньше , тех , кого он знает близко , а из этой дюжины у него один или от силы два друга , то можно легко увидеть , что с уч том миллионов живущих на земле людей , ни один подходящий мужчина , возможно , ещ не встретил подходящую женщину . <end>\n"
          ]
        }
      ]
    },
    {
      "cell_type": "code",
      "metadata": {
        "id": "bIOn8RCNDJXG"
      },
      "source": [
        "def tokenize(lang):\n",
        "  lang_tokenizer = tf.keras.preprocessing.text.Tokenizer(\n",
        "      filters='')\n",
        "  lang_tokenizer.fit_on_texts(lang)\n",
        "\n",
        "  tensor = lang_tokenizer.texts_to_sequences(lang)\n",
        "\n",
        "  tensor = tf.keras.preprocessing.sequence.pad_sequences(tensor,\n",
        "                                                         padding='post')\n",
        "\n",
        "  return tensor, lang_tokenizer"
      ],
      "execution_count": 10,
      "outputs": []
    },
    {
      "cell_type": "code",
      "metadata": {
        "id": "eAY9k49G3jE_"
      },
      "source": [
        "def load_dataset(path, num_examples=None):\n",
        "  # creating cleaned input, output pairs\n",
        "  targ_lang, inp_lang = create_dataset(path, num_examples)\n",
        "\n",
        "  input_tensor, inp_lang_tokenizer = tokenize(inp_lang)\n",
        "  target_tensor, targ_lang_tokenizer = tokenize(targ_lang)\n",
        "\n",
        "  return input_tensor, target_tensor, inp_lang_tokenizer, targ_lang_tokenizer"
      ],
      "execution_count": 11,
      "outputs": []
    },
    {
      "cell_type": "markdown",
      "metadata": {
        "id": "GOi42V79Ydlr"
      },
      "source": [
        "### Limit the size of the dataset to experiment faster (optional)\n"
      ]
    },
    {
      "cell_type": "code",
      "metadata": {
        "id": "C8j9g9AnIeZV",
        "colab": {
          "base_uri": "https://localhost:8080/"
        },
        "outputId": "ad2864bc-df81-4588-ca34-8ac5d65332bb"
      },
      "source": [
        "len(en), len(ru)"
      ],
      "execution_count": 12,
      "outputs": [
        {
          "output_type": "execute_result",
          "data": {
            "text/plain": [
              "(444587, 444587)"
            ]
          },
          "metadata": {},
          "execution_count": 12
        }
      ]
    },
    {
      "cell_type": "code",
      "metadata": {
        "id": "cnxC7q-j3jFD"
      },
      "source": [
        "# Try experimenting with the size of that dataset\n",
        "num_examples = 100000\n",
        "input_tensor, target_tensor, inp_lang, targ_lang = load_dataset(path_to_file, num_examples)\n",
        "\n",
        "# Calculate max_length of the target tensors\n",
        "max_length_targ, max_length_inp = target_tensor.shape[1], input_tensor.shape[1]"
      ],
      "execution_count": 13,
      "outputs": []
    },
    {
      "cell_type": "code",
      "metadata": {
        "id": "4QILQkOs3jFG",
        "colab": {
          "base_uri": "https://localhost:8080/"
        },
        "outputId": "4a36dde8-7004-47e9-a361-ae93032f5ef0"
      },
      "source": [
        "# Creating training and validation sets using an 80-20 split\n",
        "input_tensor_train, input_tensor_val, target_tensor_train, target_tensor_val = train_test_split(input_tensor, target_tensor, test_size=0.2)\n",
        "\n",
        "# Show length\n",
        "print(len(input_tensor_train), len(target_tensor_train), len(input_tensor_val), len(target_tensor_val))"
      ],
      "execution_count": 14,
      "outputs": [
        {
          "output_type": "stream",
          "name": "stdout",
          "text": [
            "80000 80000 20000 20000\n"
          ]
        }
      ]
    },
    {
      "cell_type": "code",
      "metadata": {
        "id": "lJPmLZGMeD5q"
      },
      "source": [
        "def convert(lang, tensor):\n",
        "  for t in tensor:\n",
        "    if t!=0:\n",
        "      print (\"%d ----> %s\" % (t, lang.index_word[t]))"
      ],
      "execution_count": 15,
      "outputs": []
    },
    {
      "cell_type": "code",
      "metadata": {
        "id": "VXukARTDd7MT",
        "colab": {
          "base_uri": "https://localhost:8080/"
        },
        "outputId": "aac81533-d137-405d-ae79-1d422f100a82"
      },
      "source": [
        "print (\"Input Language; index to word mapping\")\n",
        "convert(inp_lang, input_tensor_train[0])\n",
        "print ()\n",
        "print (\"Target Language; index to word mapping\")\n",
        "convert(targ_lang, target_tensor_train[0])"
      ],
      "execution_count": 16,
      "outputs": [
        {
          "output_type": "stream",
          "name": "stdout",
          "text": [
            "Input Language; index to word mapping\n",
            "1 ----> <start>\n",
            "302 ----> выглядишь\n",
            "18575 ----> краше\n",
            "15 ----> в\n",
            "8449 ----> гроб\n",
            "18576 ----> кладут\n",
            "3 ----> .\n",
            "2 ----> <end>\n",
            "\n",
            "Target Language; index to word mapping\n",
            "1 ----> <start>\n",
            "7 ----> you\n",
            "81 ----> look\n",
            "31 ----> like\n",
            "921 ----> death\n",
            "3 ----> .\n",
            "2 ----> <end>\n"
          ]
        }
      ]
    },
    {
      "cell_type": "markdown",
      "metadata": {
        "id": "rgCLkfv5uO3d"
      },
      "source": [
        "### Create a tf.data dataset"
      ]
    },
    {
      "cell_type": "code",
      "metadata": {
        "id": "TqHsArVZ3jFS"
      },
      "source": [
        "BUFFER_SIZE = len(input_tensor_train)\n",
        "BATCH_SIZE = 64\n",
        "steps_per_epoch = len(input_tensor_train)//BATCH_SIZE\n",
        "embedding_dim = 256\n",
        "units = 1024\n",
        "vocab_inp_size = len(inp_lang.word_index)+1\n",
        "vocab_tar_size = len(targ_lang.word_index)+1\n",
        "\n",
        "dataset = tf.data.Dataset.from_tensor_slices((input_tensor_train, target_tensor_train)).shuffle(BUFFER_SIZE)\n",
        "dataset = dataset.batch(BATCH_SIZE, drop_remainder=True)"
      ],
      "execution_count": 17,
      "outputs": []
    },
    {
      "cell_type": "code",
      "metadata": {
        "id": "qc6-NK1GtWQt",
        "colab": {
          "base_uri": "https://localhost:8080/"
        },
        "outputId": "fb7a3c8a-384e-45a2-aef4-d0956e084568"
      },
      "source": [
        "example_input_batch, example_target_batch = next(iter(dataset))\n",
        "example_input_batch.shape, example_target_batch.shape"
      ],
      "execution_count": 18,
      "outputs": [
        {
          "output_type": "execute_result",
          "data": {
            "text/plain": [
              "(TensorShape([64, 15]), TensorShape([64, 11]))"
            ]
          },
          "metadata": {},
          "execution_count": 18
        }
      ]
    },
    {
      "cell_type": "code",
      "metadata": {
        "id": "nZ2rI24i3jFg"
      },
      "source": [
        "class Encoder(tf.keras.Model):\n",
        "  def __init__(self, vocab_size, embedding_dim, enc_units, batch_sz):\n",
        "    super(Encoder, self).__init__()\n",
        "    self.batch_sz = batch_sz\n",
        "    self.enc_units = enc_units\n",
        "    self.embedding = tf.keras.layers.Embedding(vocab_size, embedding_dim)\n",
        "    self.gru = tf.keras.layers.GRU(self.enc_units,\n",
        "                                   return_sequences=True,\n",
        "                                   return_state=True,\n",
        "                                   recurrent_initializer='glorot_uniform')\n",
        "\n",
        "  def call(self, x, hidden):\n",
        "    x = self.embedding(x)\n",
        "    output, state = self.gru(x, initial_state = hidden)\n",
        "    return output, state\n",
        "\n",
        "  def initialize_hidden_state(self):\n",
        "    return tf.zeros((self.batch_sz, self.enc_units))"
      ],
      "execution_count": 19,
      "outputs": []
    },
    {
      "cell_type": "code",
      "metadata": {
        "id": "60gSVh05Jl6l",
        "colab": {
          "base_uri": "https://localhost:8080/"
        },
        "outputId": "8086ad14-f26d-4d4a-8e0e-a18f0dcfd06c"
      },
      "source": [
        "encoder = Encoder(vocab_inp_size, embedding_dim, units, BATCH_SIZE)\n",
        "\n",
        "# sample input\n",
        "sample_hidden = encoder.initialize_hidden_state()\n",
        "sample_output, sample_hidden = encoder(example_input_batch, sample_hidden)\n",
        "print ('Encoder output shape: (batch size, sequence length, units) {}'.format(sample_output.shape))\n",
        "print ('Encoder Hidden state shape: (batch size, units) {}'.format(sample_hidden.shape))"
      ],
      "execution_count": 20,
      "outputs": [
        {
          "output_type": "stream",
          "name": "stdout",
          "text": [
            "Encoder output shape: (batch size, sequence length, units) (64, 15, 1024)\n",
            "Encoder Hidden state shape: (batch size, units) (64, 1024)\n"
          ]
        }
      ]
    },
    {
      "cell_type": "code",
      "metadata": {
        "id": "YTyhL28Niqk1"
      },
      "source": [
        "class BahdanauAttention(tf.keras.layers.Layer):\n",
        "  def __init__(self, units):\n",
        "    super(BahdanauAttention, self).__init__()\n",
        "    self.W1 = tf.keras.layers.Dense(units)\n",
        "    self.W2 = tf.keras.layers.Dense(units)\n",
        "    self.V = tf.keras.layers.Dense(1)\n",
        "\n",
        "  def call(self, query, values):\n",
        "    # query hidden state shape == (batch_size, hidden size)\n",
        "    # query_with_time_axis shape == (batch_size, 1, hidden size)\n",
        "    # values shape == (batch_size, max_len, hidden size)\n",
        "    # we are doing this to broadcast addition along the time axis to calculate the score\n",
        "    query_with_time_axis = tf.expand_dims(query, 1)\n",
        "\n",
        "    # score shape == (batch_size, max_length, 1)\n",
        "    # we get 1 at the last axis because we are applying score to self.V\n",
        "    # the shape of the tensor before applying self.V is (batch_size, max_length, units)\n",
        "    score = self.V(tf.nn.tanh(\n",
        "        self.W1(query_with_time_axis) + self.W2(values)))\n",
        "\n",
        "    # attention_weights shape == (batch_size, max_length, 1)\n",
        "    attention_weights = tf.nn.softmax(score, axis=1)\n",
        "\n",
        "    # context_vector shape after sum == (batch_size, hidden_size)\n",
        "    context_vector = attention_weights * values\n",
        "    context_vector = tf.reduce_sum(context_vector, axis=1)\n",
        "\n",
        "    return context_vector, attention_weights"
      ],
      "execution_count": 21,
      "outputs": []
    },
    {
      "cell_type": "code",
      "metadata": {
        "colab": {
          "base_uri": "https://localhost:8080/"
        },
        "id": "XUqssWcci1XJ",
        "outputId": "1c5a1e41-ccad-4195-9482-111e5bc2bf39"
      },
      "source": [
        "attention_layer = BahdanauAttention(10)\n",
        "attention_result, attention_weights = attention_layer(sample_hidden, sample_output)\n",
        "\n",
        "print(\"Attention result shape: (batch size, units) {}\".format(attention_result.shape))\n",
        "print(\"Attention weights shape: (batch_size, sequence_length, 1) {}\".format(attention_weights.shape))"
      ],
      "execution_count": 22,
      "outputs": [
        {
          "output_type": "stream",
          "name": "stdout",
          "text": [
            "Attention result shape: (batch size, units) (64, 1024)\n",
            "Attention weights shape: (batch_size, sequence_length, 1) (64, 15, 1)\n"
          ]
        }
      ]
    },
    {
      "cell_type": "code",
      "metadata": {
        "id": "yJ_B3mhW3jFk"
      },
      "source": [
        "class Decoder(tf.keras.Model):\n",
        "  def __init__(self, vocab_size, embedding_dim, dec_units, batch_sz):\n",
        "    super(Decoder, self).__init__()\n",
        "    self.batch_sz = batch_sz\n",
        "    self.dec_units = dec_units\n",
        "    self.embedding = tf.keras.layers.Embedding(vocab_size, embedding_dim)\n",
        "    self.gru = tf.keras.layers.GRU(self.dec_units,\n",
        "                                   return_sequences=True,\n",
        "                                   return_state=True,\n",
        "                                   recurrent_initializer='glorot_uniform')\n",
        "    self.fc = tf.keras.layers.Dense(vocab_size)\n",
        "\n",
        "    # used for attention\n",
        "    self.attention = BahdanauAttention(self.dec_units)\n",
        "\n",
        "  def call(self, x, hidden, enc_output):\n",
        "    # enc_output shape == (batch_size, max_length, hidden_size)\n",
        "    context_vector, attention_weights = self.attention(hidden, enc_output)\n",
        "\n",
        "    # x shape after passing through embedding == (batch_size, 1, embedding_dim)\n",
        "    x = self.embedding(x)\n",
        "\n",
        "    # x shape after concatenation == (batch_size, 1, embedding_dim + hidden_size)\n",
        "    x = tf.concat([tf.expand_dims(context_vector, 1), x], axis=-1)\n",
        "\n",
        "    # passing the concatenated vector to the GRU\n",
        "    output, state = self.gru(x)\n",
        "\n",
        "    # output shape == (batch_size * 1, hidden_size)\n",
        "    output = tf.reshape(output, (-1, output.shape[2]))\n",
        "\n",
        "    # output shape == (batch_size, vocab)\n",
        "    x = self.fc(output)\n",
        "\n",
        "    return x, state, attention_weights"
      ],
      "execution_count": 23,
      "outputs": []
    },
    {
      "cell_type": "code",
      "metadata": {
        "id": "P5UY8wko3jFp",
        "colab": {
          "base_uri": "https://localhost:8080/"
        },
        "outputId": "0d89ea48-2e30-42f2-fbe7-8b4ce5b4454e"
      },
      "source": [
        "decoder = Decoder(vocab_tar_size, embedding_dim, units, BATCH_SIZE)\n",
        "\n",
        "sample_decoder_output, _, _ = decoder(tf.random.uniform((BATCH_SIZE, 1)),\n",
        "                                      sample_hidden, sample_output)\n",
        "\n",
        "print ('Decoder output shape: (batch_size, vocab size) {}'.format(sample_decoder_output.shape))"
      ],
      "execution_count": 24,
      "outputs": [
        {
          "output_type": "stream",
          "name": "stdout",
          "text": [
            "Decoder output shape: (batch_size, vocab size) (64, 7334)\n"
          ]
        }
      ]
    },
    {
      "cell_type": "markdown",
      "metadata": {
        "id": "_ch_71VbIRfK"
      },
      "source": [
        "## Define the optimizer and the loss function"
      ]
    },
    {
      "cell_type": "code",
      "metadata": {
        "id": "WmTHr5iV3jFr"
      },
      "source": [
        "optimizer = tf.keras.optimizers.Adam()\n",
        "loss_object = tf.keras.losses.SparseCategoricalCrossentropy(\n",
        "    from_logits=True, reduction='none')\n",
        "\n",
        "def loss_function(real, pred):\n",
        "  mask = tf.math.logical_not(tf.math.equal(real, 0))\n",
        "  loss_ = loss_object(real, pred)\n",
        "\n",
        "  mask = tf.cast(mask, dtype=loss_.dtype)\n",
        "  loss_ *= mask\n",
        "\n",
        "  return tf.reduce_mean(loss_)"
      ],
      "execution_count": 25,
      "outputs": []
    },
    {
      "cell_type": "markdown",
      "metadata": {
        "id": "DMVWzzsfNl4e"
      },
      "source": [
        "## Checkpoints (Object-based saving)"
      ]
    },
    {
      "cell_type": "code",
      "metadata": {
        "id": "Zj8bXQTgNwrF"
      },
      "source": [
        "checkpoint_dir = './training_attention_checkpoints'\n",
        "checkpoint_prefix = os.path.join(checkpoint_dir, \"ckpt\")\n",
        "checkpoint = tf.train.Checkpoint(optimizer=optimizer,\n",
        "                                 encoder=encoder,\n",
        "                                 decoder=decoder)"
      ],
      "execution_count": 26,
      "outputs": []
    },
    {
      "cell_type": "code",
      "metadata": {
        "id": "sC9ArXSsVfqn"
      },
      "source": [
        "@tf.function\n",
        "def train_step(inp, targ, enc_hidden):\n",
        "  loss = 0\n",
        "\n",
        "  with tf.GradientTape() as tape:\n",
        "    enc_output, enc_hidden = encoder(inp, enc_hidden)\n",
        "\n",
        "    dec_hidden = enc_hidden\n",
        "\n",
        "    dec_input = tf.expand_dims([targ_lang.word_index['<start>']] * BATCH_SIZE, 1)\n",
        "\n",
        "    # Teacher forcing - feeding the target as the next input\n",
        "    for t in range(1, targ.shape[1]):\n",
        "      # passing enc_output to the decoder\n",
        "      predictions, dec_hidden, _ = decoder(dec_input, dec_hidden, enc_output)\n",
        "\n",
        "      loss += loss_function(targ[:, t], predictions)\n",
        "\n",
        "      # using teacher forcing\n",
        "      dec_input = tf.expand_dims(targ[:, t], 1)\n",
        "\n",
        "  batch_loss = (loss / int(targ.shape[1]))\n",
        "\n",
        "  variables = encoder.trainable_variables + decoder.trainable_variables\n",
        "\n",
        "  gradients = tape.gradient(loss, variables)\n",
        "\n",
        "  optimizer.apply_gradients(zip(gradients, variables))\n",
        "\n",
        "  return batch_loss"
      ],
      "execution_count": 27,
      "outputs": []
    },
    {
      "cell_type": "code",
      "metadata": {
        "id": "ddefjBMa3jF0",
        "colab": {
          "base_uri": "https://localhost:8080/"
        },
        "outputId": "44a16660-7a71-4c25-9bf3-684c832da215"
      },
      "source": [
        "EPOCHS = 50\n",
        "\n",
        "for epoch in range(EPOCHS):\n",
        "  start = time.time()\n",
        "\n",
        "  enc_hidden = encoder.initialize_hidden_state()\n",
        "  total_loss = 0\n",
        "\n",
        "  for (batch, (inp, targ)) in enumerate(dataset.take(steps_per_epoch)):\n",
        "    batch_loss = train_step(inp, targ, enc_hidden)\n",
        "    total_loss += batch_loss\n",
        "\n",
        "    if batch % 100 == 0:\n",
        "      print('Epoch {} Batch {} Loss {:.4f}'.format(epoch + 1,\n",
        "                                                   batch,\n",
        "                                                   batch_loss.numpy()))\n",
        "  # saving (checkpoint) the model every 2 epochs\n",
        "  if (epoch + 1) % 2 == 0:\n",
        "    checkpoint.save(file_prefix = checkpoint_prefix)\n",
        "\n",
        "  print('Epoch {} Loss {:.4f}'.format(epoch + 1,\n",
        "                                      total_loss / steps_per_epoch))\n",
        "  print('Time taken for 1 epoch {} sec\\n'.format(time.time() - start))"
      ],
      "execution_count": 28,
      "outputs": [
        {
          "output_type": "stream",
          "name": "stdout",
          "text": [
            "Epoch 1 Batch 0 Loss 4.7159\n",
            "Epoch 1 Batch 100 Loss 2.2169\n",
            "Epoch 1 Batch 200 Loss 1.9494\n",
            "Epoch 1 Batch 300 Loss 1.7155\n",
            "Epoch 1 Batch 400 Loss 1.5597\n",
            "Epoch 1 Batch 500 Loss 1.5436\n",
            "Epoch 1 Batch 600 Loss 1.4624\n",
            "Epoch 1 Batch 700 Loss 1.3074\n",
            "Epoch 1 Batch 800 Loss 1.3178\n",
            "Epoch 1 Batch 900 Loss 1.2083\n",
            "Epoch 1 Batch 1000 Loss 1.1196\n",
            "Epoch 1 Batch 1100 Loss 0.9680\n",
            "Epoch 1 Batch 1200 Loss 0.9423\n",
            "Epoch 1 Loss 1.4746\n",
            "Time taken for 1 epoch 108.8431544303894 sec\n",
            "\n",
            "Epoch 2 Batch 0 Loss 0.7621\n",
            "Epoch 2 Batch 100 Loss 0.9269\n",
            "Epoch 2 Batch 200 Loss 0.6963\n",
            "Epoch 2 Batch 300 Loss 0.6919\n",
            "Epoch 2 Batch 400 Loss 0.7135\n",
            "Epoch 2 Batch 500 Loss 0.6513\n",
            "Epoch 2 Batch 600 Loss 0.6741\n",
            "Epoch 2 Batch 700 Loss 0.5458\n",
            "Epoch 2 Batch 800 Loss 0.6316\n",
            "Epoch 2 Batch 900 Loss 0.6170\n",
            "Epoch 2 Batch 1000 Loss 0.6046\n",
            "Epoch 2 Batch 1100 Loss 0.5571\n",
            "Epoch 2 Batch 1200 Loss 0.5432\n",
            "Epoch 2 Loss 0.6380\n",
            "Time taken for 1 epoch 97.6368613243103 sec\n",
            "\n",
            "Epoch 3 Batch 0 Loss 0.3325\n",
            "Epoch 3 Batch 100 Loss 0.4073\n",
            "Epoch 3 Batch 200 Loss 0.3593\n",
            "Epoch 3 Batch 300 Loss 0.3487\n",
            "Epoch 3 Batch 400 Loss 0.3703\n",
            "Epoch 3 Batch 500 Loss 0.3532\n",
            "Epoch 3 Batch 600 Loss 0.3749\n",
            "Epoch 3 Batch 700 Loss 0.3006\n",
            "Epoch 3 Batch 800 Loss 0.3847\n",
            "Epoch 3 Batch 900 Loss 0.3546\n",
            "Epoch 3 Batch 1000 Loss 0.2972\n",
            "Epoch 3 Batch 1100 Loss 0.4056\n",
            "Epoch 3 Batch 1200 Loss 0.3124\n",
            "Epoch 3 Loss 0.3384\n",
            "Time taken for 1 epoch 96.69132971763611 sec\n",
            "\n",
            "Epoch 4 Batch 0 Loss 0.1867\n",
            "Epoch 4 Batch 100 Loss 0.1492\n",
            "Epoch 4 Batch 200 Loss 0.1516\n",
            "Epoch 4 Batch 300 Loss 0.2549\n",
            "Epoch 4 Batch 400 Loss 0.1463\n",
            "Epoch 4 Batch 500 Loss 0.2122\n",
            "Epoch 4 Batch 600 Loss 0.2092\n",
            "Epoch 4 Batch 700 Loss 0.1747\n",
            "Epoch 4 Batch 800 Loss 0.2159\n",
            "Epoch 4 Batch 900 Loss 0.2184\n",
            "Epoch 4 Batch 1000 Loss 0.2078\n",
            "Epoch 4 Batch 1100 Loss 0.2044\n",
            "Epoch 4 Batch 1200 Loss 0.1901\n",
            "Epoch 4 Loss 0.2098\n",
            "Time taken for 1 epoch 97.38700366020203 sec\n",
            "\n",
            "Epoch 5 Batch 0 Loss 0.1168\n",
            "Epoch 5 Batch 100 Loss 0.1329\n",
            "Epoch 5 Batch 200 Loss 0.1535\n",
            "Epoch 5 Batch 300 Loss 0.1408\n",
            "Epoch 5 Batch 400 Loss 0.1295\n",
            "Epoch 5 Batch 500 Loss 0.1385\n",
            "Epoch 5 Batch 600 Loss 0.1158\n",
            "Epoch 5 Batch 700 Loss 0.1474\n",
            "Epoch 5 Batch 800 Loss 0.1633\n",
            "Epoch 5 Batch 900 Loss 0.1355\n",
            "Epoch 5 Batch 1000 Loss 0.0990\n",
            "Epoch 5 Batch 1100 Loss 0.1570\n",
            "Epoch 5 Batch 1200 Loss 0.1371\n",
            "Epoch 5 Loss 0.1495\n",
            "Time taken for 1 epoch 96.76146245002747 sec\n",
            "\n",
            "Epoch 6 Batch 0 Loss 0.1070\n",
            "Epoch 6 Batch 100 Loss 0.0808\n",
            "Epoch 6 Batch 200 Loss 0.1101\n",
            "Epoch 6 Batch 300 Loss 0.0764\n",
            "Epoch 6 Batch 400 Loss 0.1354\n",
            "Epoch 6 Batch 500 Loss 0.1531\n",
            "Epoch 6 Batch 600 Loss 0.1362\n",
            "Epoch 6 Batch 700 Loss 0.1362\n",
            "Epoch 6 Batch 800 Loss 0.1149\n",
            "Epoch 6 Batch 900 Loss 0.1660\n",
            "Epoch 6 Batch 1000 Loss 0.1395\n",
            "Epoch 6 Batch 1100 Loss 0.1222\n",
            "Epoch 6 Batch 1200 Loss 0.1373\n",
            "Epoch 6 Loss 0.1186\n",
            "Time taken for 1 epoch 97.44777250289917 sec\n",
            "\n",
            "Epoch 7 Batch 0 Loss 0.0911\n",
            "Epoch 7 Batch 100 Loss 0.0861\n",
            "Epoch 7 Batch 200 Loss 0.0814\n",
            "Epoch 7 Batch 300 Loss 0.1001\n",
            "Epoch 7 Batch 400 Loss 0.0998\n",
            "Epoch 7 Batch 500 Loss 0.0807\n",
            "Epoch 7 Batch 600 Loss 0.1016\n",
            "Epoch 7 Batch 700 Loss 0.1115\n",
            "Epoch 7 Batch 800 Loss 0.0960\n",
            "Epoch 7 Batch 900 Loss 0.1147\n",
            "Epoch 7 Batch 1000 Loss 0.1086\n",
            "Epoch 7 Batch 1100 Loss 0.1309\n",
            "Epoch 7 Batch 1200 Loss 0.1160\n",
            "Epoch 7 Loss 0.1007\n",
            "Time taken for 1 epoch 96.74236226081848 sec\n",
            "\n",
            "Epoch 8 Batch 0 Loss 0.0489\n",
            "Epoch 8 Batch 100 Loss 0.0908\n",
            "Epoch 8 Batch 200 Loss 0.0819\n",
            "Epoch 8 Batch 300 Loss 0.1133\n",
            "Epoch 8 Batch 400 Loss 0.0801\n",
            "Epoch 8 Batch 500 Loss 0.0940\n",
            "Epoch 8 Batch 600 Loss 0.1205\n",
            "Epoch 8 Batch 700 Loss 0.1050\n",
            "Epoch 8 Batch 800 Loss 0.1085\n",
            "Epoch 8 Batch 900 Loss 0.1467\n",
            "Epoch 8 Batch 1000 Loss 0.0717\n",
            "Epoch 8 Batch 1100 Loss 0.0861\n",
            "Epoch 8 Batch 1200 Loss 0.0782\n",
            "Epoch 8 Loss 0.0898\n",
            "Time taken for 1 epoch 97.38120794296265 sec\n",
            "\n",
            "Epoch 9 Batch 0 Loss 0.0582\n",
            "Epoch 9 Batch 100 Loss 0.0459\n",
            "Epoch 9 Batch 200 Loss 0.0871\n",
            "Epoch 9 Batch 300 Loss 0.0591\n",
            "Epoch 9 Batch 400 Loss 0.0698\n",
            "Epoch 9 Batch 500 Loss 0.0632\n",
            "Epoch 9 Batch 600 Loss 0.0774\n",
            "Epoch 9 Batch 700 Loss 0.0589\n",
            "Epoch 9 Batch 800 Loss 0.0969\n",
            "Epoch 9 Batch 900 Loss 0.1148\n",
            "Epoch 9 Batch 1000 Loss 0.0918\n",
            "Epoch 9 Batch 1100 Loss 0.1042\n",
            "Epoch 9 Batch 1200 Loss 0.1040\n",
            "Epoch 9 Loss 0.0819\n",
            "Time taken for 1 epoch 96.72193765640259 sec\n",
            "\n",
            "Epoch 10 Batch 0 Loss 0.0606\n",
            "Epoch 10 Batch 100 Loss 0.0687\n",
            "Epoch 10 Batch 200 Loss 0.0520\n",
            "Epoch 10 Batch 300 Loss 0.0418\n",
            "Epoch 10 Batch 400 Loss 0.0630\n",
            "Epoch 10 Batch 500 Loss 0.0892\n",
            "Epoch 10 Batch 600 Loss 0.0749\n",
            "Epoch 10 Batch 700 Loss 0.0726\n",
            "Epoch 10 Batch 800 Loss 0.0734\n",
            "Epoch 10 Batch 900 Loss 0.0526\n",
            "Epoch 10 Batch 1000 Loss 0.1041\n",
            "Epoch 10 Batch 1100 Loss 0.1064\n",
            "Epoch 10 Batch 1200 Loss 0.1036\n",
            "Epoch 10 Loss 0.0764\n",
            "Time taken for 1 epoch 97.48111033439636 sec\n",
            "\n",
            "Epoch 11 Batch 0 Loss 0.0994\n",
            "Epoch 11 Batch 100 Loss 0.0427\n",
            "Epoch 11 Batch 200 Loss 0.0792\n",
            "Epoch 11 Batch 300 Loss 0.0498\n",
            "Epoch 11 Batch 400 Loss 0.0618\n",
            "Epoch 11 Batch 500 Loss 0.0935\n",
            "Epoch 11 Batch 600 Loss 0.0709\n",
            "Epoch 11 Batch 700 Loss 0.0589\n",
            "Epoch 11 Batch 800 Loss 0.0783\n",
            "Epoch 11 Batch 900 Loss 0.0756\n",
            "Epoch 11 Batch 1000 Loss 0.1031\n",
            "Epoch 11 Batch 1100 Loss 0.0735\n",
            "Epoch 11 Batch 1200 Loss 0.0903\n",
            "Epoch 11 Loss 0.0730\n",
            "Time taken for 1 epoch 96.70202922821045 sec\n",
            "\n",
            "Epoch 12 Batch 0 Loss 0.0763\n",
            "Epoch 12 Batch 100 Loss 0.0770\n",
            "Epoch 12 Batch 200 Loss 0.0285\n",
            "Epoch 12 Batch 300 Loss 0.0776\n",
            "Epoch 12 Batch 400 Loss 0.0558\n",
            "Epoch 12 Batch 500 Loss 0.0594\n",
            "Epoch 12 Batch 600 Loss 0.0843\n",
            "Epoch 12 Batch 700 Loss 0.1346\n",
            "Epoch 12 Batch 800 Loss 0.0758\n",
            "Epoch 12 Batch 900 Loss 0.0492\n",
            "Epoch 12 Batch 1000 Loss 0.0685\n",
            "Epoch 12 Batch 1100 Loss 0.0656\n",
            "Epoch 12 Batch 1200 Loss 0.0651\n",
            "Epoch 12 Loss 0.0695\n",
            "Time taken for 1 epoch 97.31462931632996 sec\n",
            "\n",
            "Epoch 13 Batch 0 Loss 0.0609\n",
            "Epoch 13 Batch 100 Loss 0.0445\n",
            "Epoch 13 Batch 200 Loss 0.0447\n",
            "Epoch 13 Batch 300 Loss 0.0476\n",
            "Epoch 13 Batch 400 Loss 0.0907\n",
            "Epoch 13 Batch 500 Loss 0.0544\n",
            "Epoch 13 Batch 600 Loss 0.0758\n",
            "Epoch 13 Batch 700 Loss 0.0282\n",
            "Epoch 13 Batch 800 Loss 0.0884\n",
            "Epoch 13 Batch 900 Loss 0.0590\n",
            "Epoch 13 Batch 1000 Loss 0.0585\n",
            "Epoch 13 Batch 1100 Loss 0.0939\n",
            "Epoch 13 Batch 1200 Loss 0.1023\n",
            "Epoch 13 Loss 0.0664\n",
            "Time taken for 1 epoch 96.76617789268494 sec\n",
            "\n",
            "Epoch 14 Batch 0 Loss 0.0788\n",
            "Epoch 14 Batch 100 Loss 0.0609\n",
            "Epoch 14 Batch 200 Loss 0.0500\n",
            "Epoch 14 Batch 300 Loss 0.0526\n",
            "Epoch 14 Batch 400 Loss 0.0880\n",
            "Epoch 14 Batch 500 Loss 0.0490\n",
            "Epoch 14 Batch 600 Loss 0.0533\n",
            "Epoch 14 Batch 700 Loss 0.0986\n",
            "Epoch 14 Batch 800 Loss 0.0503\n",
            "Epoch 14 Batch 900 Loss 0.0935\n",
            "Epoch 14 Batch 1000 Loss 0.0671\n",
            "Epoch 14 Batch 1100 Loss 0.0800\n",
            "Epoch 14 Batch 1200 Loss 0.0811\n",
            "Epoch 14 Loss 0.0646\n",
            "Time taken for 1 epoch 97.49912309646606 sec\n",
            "\n",
            "Epoch 15 Batch 0 Loss 0.0758\n",
            "Epoch 15 Batch 100 Loss 0.0415\n",
            "Epoch 15 Batch 200 Loss 0.0702\n",
            "Epoch 15 Batch 300 Loss 0.0602\n",
            "Epoch 15 Batch 400 Loss 0.0539\n",
            "Epoch 15 Batch 500 Loss 0.0607\n",
            "Epoch 15 Batch 600 Loss 0.0680\n",
            "Epoch 15 Batch 700 Loss 0.0470\n",
            "Epoch 15 Batch 800 Loss 0.0492\n",
            "Epoch 15 Batch 900 Loss 0.0699\n",
            "Epoch 15 Batch 1000 Loss 0.0995\n",
            "Epoch 15 Batch 1100 Loss 0.0484\n",
            "Epoch 15 Batch 1200 Loss 0.0904\n",
            "Epoch 15 Loss 0.0622\n",
            "Time taken for 1 epoch 96.72187161445618 sec\n",
            "\n",
            "Epoch 16 Batch 0 Loss 0.0294\n",
            "Epoch 16 Batch 100 Loss 0.0487\n",
            "Epoch 16 Batch 200 Loss 0.0506\n",
            "Epoch 16 Batch 300 Loss 0.0513\n",
            "Epoch 16 Batch 400 Loss 0.0887\n",
            "Epoch 16 Batch 500 Loss 0.0418\n",
            "Epoch 16 Batch 600 Loss 0.0445\n",
            "Epoch 16 Batch 700 Loss 0.0631\n",
            "Epoch 16 Batch 800 Loss 0.0723\n",
            "Epoch 16 Batch 900 Loss 0.0580\n",
            "Epoch 16 Batch 1000 Loss 0.0966\n",
            "Epoch 16 Batch 1100 Loss 0.0953\n",
            "Epoch 16 Batch 1200 Loss 0.0740\n",
            "Epoch 16 Loss 0.0592\n",
            "Time taken for 1 epoch 97.25095701217651 sec\n",
            "\n",
            "Epoch 17 Batch 0 Loss 0.0234\n",
            "Epoch 17 Batch 100 Loss 0.0501\n",
            "Epoch 17 Batch 200 Loss 0.0408\n",
            "Epoch 17 Batch 300 Loss 0.0471\n",
            "Epoch 17 Batch 400 Loss 0.0252\n",
            "Epoch 17 Batch 500 Loss 0.0487\n",
            "Epoch 17 Batch 600 Loss 0.0666\n",
            "Epoch 17 Batch 700 Loss 0.0631\n",
            "Epoch 17 Batch 800 Loss 0.0540\n",
            "Epoch 17 Batch 900 Loss 0.0502\n",
            "Epoch 17 Batch 1000 Loss 0.0704\n",
            "Epoch 17 Batch 1100 Loss 0.0232\n",
            "Epoch 17 Batch 1200 Loss 0.0918\n",
            "Epoch 17 Loss 0.0578\n",
            "Time taken for 1 epoch 96.69363808631897 sec\n",
            "\n",
            "Epoch 18 Batch 0 Loss 0.0450\n",
            "Epoch 18 Batch 100 Loss 0.0857\n",
            "Epoch 18 Batch 200 Loss 0.0437\n",
            "Epoch 18 Batch 300 Loss 0.0642\n",
            "Epoch 18 Batch 400 Loss 0.0547\n",
            "Epoch 18 Batch 500 Loss 0.0642\n",
            "Epoch 18 Batch 600 Loss 0.0850\n",
            "Epoch 18 Batch 700 Loss 0.0739\n",
            "Epoch 18 Batch 800 Loss 0.0154\n",
            "Epoch 18 Batch 900 Loss 0.0629\n",
            "Epoch 18 Batch 1000 Loss 0.0606\n",
            "Epoch 18 Batch 1100 Loss 0.0392\n",
            "Epoch 18 Batch 1200 Loss 0.0267\n",
            "Epoch 18 Loss 0.0574\n",
            "Time taken for 1 epoch 97.38279318809509 sec\n",
            "\n",
            "Epoch 19 Batch 0 Loss 0.0450\n",
            "Epoch 19 Batch 100 Loss 0.0716\n",
            "Epoch 19 Batch 200 Loss 0.0351\n",
            "Epoch 19 Batch 300 Loss 0.0617\n",
            "Epoch 19 Batch 400 Loss 0.0520\n",
            "Epoch 19 Batch 500 Loss 0.0503\n",
            "Epoch 19 Batch 600 Loss 0.0424\n",
            "Epoch 19 Batch 700 Loss 0.0761\n",
            "Epoch 19 Batch 800 Loss 0.0584\n",
            "Epoch 19 Batch 900 Loss 0.0729\n",
            "Epoch 19 Batch 1000 Loss 0.0539\n",
            "Epoch 19 Batch 1100 Loss 0.0587\n",
            "Epoch 19 Batch 1200 Loss 0.0571\n",
            "Epoch 19 Loss 0.0557\n",
            "Time taken for 1 epoch 96.65757513046265 sec\n",
            "\n",
            "Epoch 20 Batch 0 Loss 0.0408\n",
            "Epoch 20 Batch 100 Loss 0.0339\n",
            "Epoch 20 Batch 200 Loss 0.0358\n",
            "Epoch 20 Batch 300 Loss 0.0622\n",
            "Epoch 20 Batch 400 Loss 0.0449\n",
            "Epoch 20 Batch 500 Loss 0.0700\n",
            "Epoch 20 Batch 600 Loss 0.0412\n",
            "Epoch 20 Batch 700 Loss 0.0542\n",
            "Epoch 20 Batch 800 Loss 0.0470\n",
            "Epoch 20 Batch 900 Loss 0.0326\n",
            "Epoch 20 Batch 1000 Loss 0.0442\n",
            "Epoch 20 Batch 1100 Loss 0.0420\n",
            "Epoch 20 Batch 1200 Loss 0.0770\n",
            "Epoch 20 Loss 0.0539\n",
            "Time taken for 1 epoch 97.320876121521 sec\n",
            "\n",
            "Epoch 21 Batch 0 Loss 0.0551\n",
            "Epoch 21 Batch 100 Loss 0.0396\n",
            "Epoch 21 Batch 200 Loss 0.0564\n",
            "Epoch 21 Batch 300 Loss 0.0658\n",
            "Epoch 21 Batch 400 Loss 0.0671\n",
            "Epoch 21 Batch 500 Loss 0.0377\n",
            "Epoch 21 Batch 600 Loss 0.0301\n",
            "Epoch 21 Batch 700 Loss 0.0682\n",
            "Epoch 21 Batch 800 Loss 0.0479\n",
            "Epoch 21 Batch 900 Loss 0.0593\n",
            "Epoch 21 Batch 1000 Loss 0.0728\n",
            "Epoch 21 Batch 1100 Loss 0.0618\n",
            "Epoch 21 Batch 1200 Loss 0.0540\n",
            "Epoch 21 Loss 0.0523\n",
            "Time taken for 1 epoch 96.7310860157013 sec\n",
            "\n",
            "Epoch 22 Batch 0 Loss 0.0245\n",
            "Epoch 22 Batch 100 Loss 0.0447\n",
            "Epoch 22 Batch 200 Loss 0.0520\n",
            "Epoch 22 Batch 300 Loss 0.0408\n",
            "Epoch 22 Batch 400 Loss 0.0369\n",
            "Epoch 22 Batch 500 Loss 0.0343\n",
            "Epoch 22 Batch 600 Loss 0.0277\n",
            "Epoch 22 Batch 700 Loss 0.0505\n",
            "Epoch 22 Batch 800 Loss 0.0508\n",
            "Epoch 22 Batch 900 Loss 0.0589\n",
            "Epoch 22 Batch 1000 Loss 0.0766\n",
            "Epoch 22 Batch 1100 Loss 0.0475\n",
            "Epoch 22 Batch 1200 Loss 0.0557\n",
            "Epoch 22 Loss 0.0519\n",
            "Time taken for 1 epoch 97.46469521522522 sec\n",
            "\n",
            "Epoch 23 Batch 0 Loss 0.0462\n",
            "Epoch 23 Batch 100 Loss 0.0321\n",
            "Epoch 23 Batch 200 Loss 0.0414\n",
            "Epoch 23 Batch 300 Loss 0.0550\n",
            "Epoch 23 Batch 400 Loss 0.0476\n",
            "Epoch 23 Batch 500 Loss 0.0319\n",
            "Epoch 23 Batch 600 Loss 0.0604\n",
            "Epoch 23 Batch 700 Loss 0.0979\n",
            "Epoch 23 Batch 800 Loss 0.0760\n",
            "Epoch 23 Batch 900 Loss 0.0680\n",
            "Epoch 23 Batch 1000 Loss 0.0585\n",
            "Epoch 23 Batch 1100 Loss 0.0476\n",
            "Epoch 23 Batch 1200 Loss 0.0517\n",
            "Epoch 23 Loss 0.0521\n",
            "Time taken for 1 epoch 96.64749670028687 sec\n",
            "\n",
            "Epoch 24 Batch 0 Loss 0.0412\n",
            "Epoch 24 Batch 100 Loss 0.0438\n",
            "Epoch 24 Batch 200 Loss 0.0298\n",
            "Epoch 24 Batch 300 Loss 0.0452\n",
            "Epoch 24 Batch 400 Loss 0.0789\n",
            "Epoch 24 Batch 500 Loss 0.0481\n",
            "Epoch 24 Batch 600 Loss 0.0484\n",
            "Epoch 24 Batch 700 Loss 0.0575\n",
            "Epoch 24 Batch 800 Loss 0.0557\n",
            "Epoch 24 Batch 900 Loss 0.0715\n",
            "Epoch 24 Batch 1000 Loss 0.0764\n",
            "Epoch 24 Batch 1100 Loss 0.0623\n",
            "Epoch 24 Batch 1200 Loss 0.0595\n",
            "Epoch 24 Loss 0.0496\n",
            "Time taken for 1 epoch 97.41059470176697 sec\n",
            "\n",
            "Epoch 25 Batch 0 Loss 0.0258\n",
            "Epoch 25 Batch 100 Loss 0.0478\n",
            "Epoch 25 Batch 200 Loss 0.0553\n",
            "Epoch 25 Batch 300 Loss 0.0356\n",
            "Epoch 25 Batch 400 Loss 0.0469\n",
            "Epoch 25 Batch 500 Loss 0.0475\n",
            "Epoch 25 Batch 600 Loss 0.0514\n",
            "Epoch 25 Batch 700 Loss 0.0652\n",
            "Epoch 25 Batch 800 Loss 0.0299\n",
            "Epoch 25 Batch 900 Loss 0.0456\n",
            "Epoch 25 Batch 1000 Loss 0.0468\n",
            "Epoch 25 Batch 1100 Loss 0.0484\n",
            "Epoch 25 Batch 1200 Loss 0.0586\n",
            "Epoch 25 Loss 0.0489\n",
            "Time taken for 1 epoch 96.62749648094177 sec\n",
            "\n",
            "Epoch 26 Batch 0 Loss 0.0425\n",
            "Epoch 26 Batch 100 Loss 0.0350\n",
            "Epoch 26 Batch 200 Loss 0.0171\n",
            "Epoch 26 Batch 300 Loss 0.0326\n",
            "Epoch 26 Batch 400 Loss 0.0429\n",
            "Epoch 26 Batch 500 Loss 0.0466\n",
            "Epoch 26 Batch 600 Loss 0.0191\n",
            "Epoch 26 Batch 700 Loss 0.0522\n",
            "Epoch 26 Batch 800 Loss 0.0450\n",
            "Epoch 26 Batch 900 Loss 0.0725\n",
            "Epoch 26 Batch 1000 Loss 0.1075\n",
            "Epoch 26 Batch 1100 Loss 0.0303\n",
            "Epoch 26 Batch 1200 Loss 0.0694\n",
            "Epoch 26 Loss 0.0493\n",
            "Time taken for 1 epoch 97.28696322441101 sec\n",
            "\n",
            "Epoch 27 Batch 0 Loss 0.0301\n",
            "Epoch 27 Batch 100 Loss 0.0661\n",
            "Epoch 27 Batch 200 Loss 0.0428\n",
            "Epoch 27 Batch 300 Loss 0.0343\n",
            "Epoch 27 Batch 400 Loss 0.0379\n",
            "Epoch 27 Batch 500 Loss 0.0182\n",
            "Epoch 27 Batch 600 Loss 0.0499\n",
            "Epoch 27 Batch 700 Loss 0.0532\n",
            "Epoch 27 Batch 800 Loss 0.0474\n",
            "Epoch 27 Batch 900 Loss 0.0587\n",
            "Epoch 27 Batch 1000 Loss 0.0547\n",
            "Epoch 27 Batch 1100 Loss 0.0585\n",
            "Epoch 27 Batch 1200 Loss 0.0424\n",
            "Epoch 27 Loss 0.0479\n",
            "Time taken for 1 epoch 96.58124685287476 sec\n",
            "\n",
            "Epoch 28 Batch 0 Loss 0.0218\n",
            "Epoch 28 Batch 100 Loss 0.0266\n",
            "Epoch 28 Batch 200 Loss 0.0440\n",
            "Epoch 28 Batch 300 Loss 0.0428\n",
            "Epoch 28 Batch 400 Loss 0.0467\n",
            "Epoch 28 Batch 500 Loss 0.0289\n",
            "Epoch 28 Batch 600 Loss 0.0490\n",
            "Epoch 28 Batch 700 Loss 0.0586\n",
            "Epoch 28 Batch 800 Loss 0.0111\n",
            "Epoch 28 Batch 900 Loss 0.0583\n",
            "Epoch 28 Batch 1000 Loss 0.0351\n",
            "Epoch 28 Batch 1100 Loss 0.0616\n",
            "Epoch 28 Batch 1200 Loss 0.0402\n",
            "Epoch 28 Loss 0.0472\n",
            "Time taken for 1 epoch 97.26767230033875 sec\n",
            "\n",
            "Epoch 29 Batch 0 Loss 0.0290\n",
            "Epoch 29 Batch 100 Loss 0.0308\n",
            "Epoch 29 Batch 200 Loss 0.0235\n",
            "Epoch 29 Batch 300 Loss 0.0437\n",
            "Epoch 29 Batch 400 Loss 0.0218\n",
            "Epoch 29 Batch 500 Loss 0.0561\n",
            "Epoch 29 Batch 600 Loss 0.0258\n",
            "Epoch 29 Batch 700 Loss 0.0435\n",
            "Epoch 29 Batch 800 Loss 0.0487\n",
            "Epoch 29 Batch 900 Loss 0.0381\n",
            "Epoch 29 Batch 1000 Loss 0.0538\n",
            "Epoch 29 Batch 1100 Loss 0.0810\n",
            "Epoch 29 Batch 1200 Loss 0.0473\n",
            "Epoch 29 Loss 0.0463\n",
            "Time taken for 1 epoch 96.6717917919159 sec\n",
            "\n",
            "Epoch 30 Batch 0 Loss 0.0348\n",
            "Epoch 30 Batch 100 Loss 0.0287\n",
            "Epoch 30 Batch 200 Loss 0.0415\n",
            "Epoch 30 Batch 300 Loss 0.0348\n",
            "Epoch 30 Batch 400 Loss 0.0491\n",
            "Epoch 30 Batch 500 Loss 0.0375\n",
            "Epoch 30 Batch 600 Loss 0.0398\n",
            "Epoch 30 Batch 700 Loss 0.0514\n",
            "Epoch 30 Batch 800 Loss 0.0504\n",
            "Epoch 30 Batch 900 Loss 0.0426\n",
            "Epoch 30 Batch 1000 Loss 0.0699\n",
            "Epoch 30 Batch 1100 Loss 0.0527\n",
            "Epoch 30 Batch 1200 Loss 0.0386\n",
            "Epoch 30 Loss 0.0463\n",
            "Time taken for 1 epoch 97.35115766525269 sec\n",
            "\n",
            "Epoch 31 Batch 0 Loss 0.0257\n",
            "Epoch 31 Batch 100 Loss 0.0443\n",
            "Epoch 31 Batch 200 Loss 0.0368\n",
            "Epoch 31 Batch 300 Loss 0.0241\n",
            "Epoch 31 Batch 400 Loss 0.0244\n",
            "Epoch 31 Batch 500 Loss 0.0454\n",
            "Epoch 31 Batch 600 Loss 0.0555\n",
            "Epoch 31 Batch 700 Loss 0.0447\n",
            "Epoch 31 Batch 800 Loss 0.0321\n",
            "Epoch 31 Batch 900 Loss 0.0345\n",
            "Epoch 31 Batch 1000 Loss 0.0627\n",
            "Epoch 31 Batch 1100 Loss 0.0439\n",
            "Epoch 31 Batch 1200 Loss 0.0388\n",
            "Epoch 31 Loss 0.0450\n",
            "Time taken for 1 epoch 96.61378407478333 sec\n",
            "\n",
            "Epoch 32 Batch 0 Loss 0.0266\n",
            "Epoch 32 Batch 100 Loss 0.0217\n",
            "Epoch 32 Batch 200 Loss 0.0610\n",
            "Epoch 32 Batch 300 Loss 0.0741\n",
            "Epoch 32 Batch 400 Loss 0.0228\n",
            "Epoch 32 Batch 500 Loss 0.0443\n",
            "Epoch 32 Batch 600 Loss 0.0297\n",
            "Epoch 32 Batch 700 Loss 0.0317\n",
            "Epoch 32 Batch 800 Loss 0.0747\n",
            "Epoch 32 Batch 900 Loss 0.0430\n",
            "Epoch 32 Batch 1000 Loss 0.0580\n",
            "Epoch 32 Batch 1100 Loss 0.0494\n",
            "Epoch 32 Batch 1200 Loss 0.0365\n",
            "Epoch 32 Loss 0.0451\n",
            "Time taken for 1 epoch 97.24064803123474 sec\n",
            "\n",
            "Epoch 33 Batch 0 Loss 0.0359\n",
            "Epoch 33 Batch 100 Loss 0.0304\n",
            "Epoch 33 Batch 200 Loss 0.0524\n",
            "Epoch 33 Batch 300 Loss 0.0273\n",
            "Epoch 33 Batch 400 Loss 0.0449\n",
            "Epoch 33 Batch 500 Loss 0.0447\n",
            "Epoch 33 Batch 600 Loss 0.0315\n",
            "Epoch 33 Batch 700 Loss 0.0768\n",
            "Epoch 33 Batch 800 Loss 0.0441\n",
            "Epoch 33 Batch 900 Loss 0.0475\n",
            "Epoch 33 Batch 1000 Loss 0.0402\n",
            "Epoch 33 Batch 1100 Loss 0.0548\n",
            "Epoch 33 Batch 1200 Loss 0.0501\n",
            "Epoch 33 Loss 0.0445\n",
            "Time taken for 1 epoch 96.64024925231934 sec\n",
            "\n",
            "Epoch 34 Batch 0 Loss 0.0361\n",
            "Epoch 34 Batch 100 Loss 0.0425\n",
            "Epoch 34 Batch 200 Loss 0.0331\n",
            "Epoch 34 Batch 300 Loss 0.0171\n",
            "Epoch 34 Batch 400 Loss 0.0500\n",
            "Epoch 34 Batch 500 Loss 0.0431\n",
            "Epoch 34 Batch 600 Loss 0.0584\n",
            "Epoch 34 Batch 700 Loss 0.0326\n",
            "Epoch 34 Batch 800 Loss 0.0583\n",
            "Epoch 34 Batch 900 Loss 0.0799\n",
            "Epoch 34 Batch 1000 Loss 0.0382\n",
            "Epoch 34 Batch 1100 Loss 0.0483\n",
            "Epoch 34 Batch 1200 Loss 0.0490\n",
            "Epoch 34 Loss 0.0444\n",
            "Time taken for 1 epoch 97.42832922935486 sec\n",
            "\n",
            "Epoch 35 Batch 0 Loss 0.0259\n",
            "Epoch 35 Batch 100 Loss 0.0330\n",
            "Epoch 35 Batch 200 Loss 0.0416\n",
            "Epoch 35 Batch 300 Loss 0.0331\n",
            "Epoch 35 Batch 400 Loss 0.0242\n",
            "Epoch 35 Batch 500 Loss 0.0388\n",
            "Epoch 35 Batch 600 Loss 0.0400\n",
            "Epoch 35 Batch 700 Loss 0.0543\n",
            "Epoch 35 Batch 800 Loss 0.0554\n",
            "Epoch 35 Batch 900 Loss 0.0746\n",
            "Epoch 35 Batch 1000 Loss 0.0308\n",
            "Epoch 35 Batch 1100 Loss 0.0456\n",
            "Epoch 35 Batch 1200 Loss 0.0486\n",
            "Epoch 35 Loss 0.0431\n",
            "Time taken for 1 epoch 96.67073082923889 sec\n",
            "\n",
            "Epoch 36 Batch 0 Loss 0.0265\n",
            "Epoch 36 Batch 100 Loss 0.0565\n",
            "Epoch 36 Batch 200 Loss 0.0505\n",
            "Epoch 36 Batch 300 Loss 0.0305\n",
            "Epoch 36 Batch 400 Loss 0.0340\n",
            "Epoch 36 Batch 500 Loss 0.0296\n",
            "Epoch 36 Batch 600 Loss 0.0491\n",
            "Epoch 36 Batch 700 Loss 0.0494\n",
            "Epoch 36 Batch 800 Loss 0.0443\n",
            "Epoch 36 Batch 900 Loss 0.0452\n",
            "Epoch 36 Batch 1000 Loss 0.0717\n",
            "Epoch 36 Batch 1100 Loss 0.0445\n",
            "Epoch 36 Batch 1200 Loss 0.0592\n",
            "Epoch 36 Loss 0.0432\n",
            "Time taken for 1 epoch 97.41886043548584 sec\n",
            "\n",
            "Epoch 37 Batch 0 Loss 0.0374\n",
            "Epoch 37 Batch 100 Loss 0.0589\n",
            "Epoch 37 Batch 200 Loss 0.0259\n",
            "Epoch 37 Batch 300 Loss 0.0201\n",
            "Epoch 37 Batch 400 Loss 0.0463\n",
            "Epoch 37 Batch 500 Loss 0.0365\n",
            "Epoch 37 Batch 600 Loss 0.0507\n",
            "Epoch 37 Batch 700 Loss 0.0448\n",
            "Epoch 37 Batch 800 Loss 0.0660\n",
            "Epoch 37 Batch 900 Loss 0.0521\n",
            "Epoch 37 Batch 1000 Loss 0.0451\n",
            "Epoch 37 Batch 1100 Loss 0.0507\n",
            "Epoch 37 Batch 1200 Loss 0.0545\n",
            "Epoch 37 Loss 0.0426\n",
            "Time taken for 1 epoch 96.63855600357056 sec\n",
            "\n",
            "Epoch 38 Batch 0 Loss 0.0493\n",
            "Epoch 38 Batch 100 Loss 0.0281\n",
            "Epoch 38 Batch 200 Loss 0.0579\n",
            "Epoch 38 Batch 300 Loss 0.0408\n",
            "Epoch 38 Batch 400 Loss 0.0611\n",
            "Epoch 38 Batch 500 Loss 0.0437\n",
            "Epoch 38 Batch 600 Loss 0.0663\n",
            "Epoch 38 Batch 700 Loss 0.0380\n",
            "Epoch 38 Batch 800 Loss 0.0449\n",
            "Epoch 38 Batch 900 Loss 0.0578\n",
            "Epoch 38 Batch 1000 Loss 0.0503\n",
            "Epoch 38 Batch 1100 Loss 0.0768\n",
            "Epoch 38 Batch 1200 Loss 0.0450\n",
            "Epoch 38 Loss 0.0420\n",
            "Time taken for 1 epoch 97.44542336463928 sec\n",
            "\n",
            "Epoch 39 Batch 0 Loss 0.0253\n",
            "Epoch 39 Batch 100 Loss 0.0350\n",
            "Epoch 39 Batch 200 Loss 0.0376\n",
            "Epoch 39 Batch 300 Loss 0.0428\n",
            "Epoch 39 Batch 400 Loss 0.0239\n",
            "Epoch 39 Batch 500 Loss 0.0387\n",
            "Epoch 39 Batch 600 Loss 0.0429\n",
            "Epoch 39 Batch 700 Loss 0.0532\n",
            "Epoch 39 Batch 800 Loss 0.0395\n",
            "Epoch 39 Batch 900 Loss 0.0558\n",
            "Epoch 39 Batch 1000 Loss 0.0411\n",
            "Epoch 39 Batch 1100 Loss 0.0552\n",
            "Epoch 39 Batch 1200 Loss 0.0780\n",
            "Epoch 39 Loss 0.0420\n",
            "Time taken for 1 epoch 96.67129611968994 sec\n",
            "\n",
            "Epoch 40 Batch 0 Loss 0.0377\n",
            "Epoch 40 Batch 100 Loss 0.0359\n",
            "Epoch 40 Batch 200 Loss 0.0254\n",
            "Epoch 40 Batch 300 Loss 0.0393\n",
            "Epoch 40 Batch 400 Loss 0.0574\n",
            "Epoch 40 Batch 500 Loss 0.0288\n",
            "Epoch 40 Batch 600 Loss 0.0443\n",
            "Epoch 40 Batch 700 Loss 0.0341\n",
            "Epoch 40 Batch 800 Loss 0.0392\n",
            "Epoch 40 Batch 900 Loss 0.0401\n",
            "Epoch 40 Batch 1000 Loss 0.0392\n",
            "Epoch 40 Batch 1100 Loss 0.0734\n",
            "Epoch 40 Batch 1200 Loss 0.0617\n",
            "Epoch 40 Loss 0.0423\n",
            "Time taken for 1 epoch 97.44325590133667 sec\n",
            "\n",
            "Epoch 41 Batch 0 Loss 0.0361\n",
            "Epoch 41 Batch 100 Loss 0.0313\n",
            "Epoch 41 Batch 200 Loss 0.0490\n",
            "Epoch 41 Batch 300 Loss 0.0305\n",
            "Epoch 41 Batch 400 Loss 0.0439\n",
            "Epoch 41 Batch 500 Loss 0.0425\n",
            "Epoch 41 Batch 600 Loss 0.0390\n",
            "Epoch 41 Batch 700 Loss 0.0278\n",
            "Epoch 41 Batch 800 Loss 0.0491\n",
            "Epoch 41 Batch 900 Loss 0.0551\n",
            "Epoch 41 Batch 1000 Loss 0.0567\n",
            "Epoch 41 Batch 1100 Loss 0.0482\n",
            "Epoch 41 Batch 1200 Loss 0.0278\n",
            "Epoch 41 Loss 0.0407\n",
            "Time taken for 1 epoch 96.59044551849365 sec\n",
            "\n",
            "Epoch 42 Batch 0 Loss 0.0246\n",
            "Epoch 42 Batch 100 Loss 0.0202\n",
            "Epoch 42 Batch 200 Loss 0.0324\n",
            "Epoch 42 Batch 300 Loss 0.0580\n",
            "Epoch 42 Batch 400 Loss 0.0357\n",
            "Epoch 42 Batch 500 Loss 0.0482\n",
            "Epoch 42 Batch 600 Loss 0.0396\n",
            "Epoch 42 Batch 700 Loss 0.0342\n",
            "Epoch 42 Batch 800 Loss 0.0414\n",
            "Epoch 42 Batch 900 Loss 0.0421\n",
            "Epoch 42 Batch 1000 Loss 0.0521\n",
            "Epoch 42 Batch 1100 Loss 0.0404\n",
            "Epoch 42 Batch 1200 Loss 0.0480\n",
            "Epoch 42 Loss 0.0405\n",
            "Time taken for 1 epoch 97.48358035087585 sec\n",
            "\n",
            "Epoch 43 Batch 0 Loss 0.0430\n",
            "Epoch 43 Batch 100 Loss 0.0441\n",
            "Epoch 43 Batch 200 Loss 0.0225\n",
            "Epoch 43 Batch 300 Loss 0.0237\n",
            "Epoch 43 Batch 400 Loss 0.0279\n",
            "Epoch 43 Batch 500 Loss 0.0346\n",
            "Epoch 43 Batch 600 Loss 0.0274\n",
            "Epoch 43 Batch 700 Loss 0.0413\n",
            "Epoch 43 Batch 800 Loss 0.0385\n",
            "Epoch 43 Batch 900 Loss 0.0407\n",
            "Epoch 43 Batch 1000 Loss 0.0655\n",
            "Epoch 43 Batch 1100 Loss 0.0548\n",
            "Epoch 43 Batch 1200 Loss 0.0395\n",
            "Epoch 43 Loss 0.0408\n",
            "Time taken for 1 epoch 96.54932522773743 sec\n",
            "\n",
            "Epoch 44 Batch 0 Loss 0.0297\n",
            "Epoch 44 Batch 100 Loss 0.0322\n",
            "Epoch 44 Batch 200 Loss 0.0336\n",
            "Epoch 44 Batch 300 Loss 0.0337\n",
            "Epoch 44 Batch 400 Loss 0.0344\n",
            "Epoch 44 Batch 500 Loss 0.0524\n",
            "Epoch 44 Batch 600 Loss 0.0561\n",
            "Epoch 44 Batch 700 Loss 0.1013\n",
            "Epoch 44 Batch 800 Loss 0.0538\n",
            "Epoch 44 Batch 900 Loss 0.0693\n",
            "Epoch 44 Batch 1000 Loss 0.0464\n",
            "Epoch 44 Batch 1100 Loss 0.0449\n",
            "Epoch 44 Batch 1200 Loss 0.0561\n",
            "Epoch 44 Loss 0.0411\n",
            "Time taken for 1 epoch 97.47166466712952 sec\n",
            "\n",
            "Epoch 45 Batch 0 Loss 0.0221\n",
            "Epoch 45 Batch 100 Loss 0.0436\n",
            "Epoch 45 Batch 200 Loss 0.0155\n",
            "Epoch 45 Batch 300 Loss 0.0326\n",
            "Epoch 45 Batch 400 Loss 0.0757\n",
            "Epoch 45 Batch 500 Loss 0.0637\n",
            "Epoch 45 Batch 600 Loss 0.0376\n",
            "Epoch 45 Batch 700 Loss 0.0142\n",
            "Epoch 45 Batch 800 Loss 0.0207\n",
            "Epoch 45 Batch 900 Loss 0.0409\n",
            "Epoch 45 Batch 1000 Loss 0.0491\n",
            "Epoch 45 Batch 1100 Loss 0.0680\n",
            "Epoch 45 Batch 1200 Loss 0.0335\n",
            "Epoch 45 Loss 0.0417\n",
            "Time taken for 1 epoch 96.55990958213806 sec\n",
            "\n",
            "Epoch 46 Batch 0 Loss 0.0191\n",
            "Epoch 46 Batch 100 Loss 0.0368\n",
            "Epoch 46 Batch 200 Loss 0.0282\n",
            "Epoch 46 Batch 300 Loss 0.0380\n",
            "Epoch 46 Batch 400 Loss 0.0312\n",
            "Epoch 46 Batch 500 Loss 0.0399\n",
            "Epoch 46 Batch 600 Loss 0.0350\n",
            "Epoch 46 Batch 700 Loss 0.0407\n",
            "Epoch 46 Batch 800 Loss 0.0384\n",
            "Epoch 46 Batch 900 Loss 0.0351\n",
            "Epoch 46 Batch 1000 Loss 0.0699\n",
            "Epoch 46 Batch 1100 Loss 0.0446\n",
            "Epoch 46 Batch 1200 Loss 0.0267\n",
            "Epoch 46 Loss 0.0383\n",
            "Time taken for 1 epoch 97.38940906524658 sec\n",
            "\n",
            "Epoch 47 Batch 0 Loss 0.0341\n",
            "Epoch 47 Batch 100 Loss 0.0460\n",
            "Epoch 47 Batch 200 Loss 0.0317\n",
            "Epoch 47 Batch 300 Loss 0.0096\n",
            "Epoch 47 Batch 400 Loss 0.0306\n",
            "Epoch 47 Batch 500 Loss 0.0442\n",
            "Epoch 47 Batch 600 Loss 0.0315\n",
            "Epoch 47 Batch 700 Loss 0.0478\n",
            "Epoch 47 Batch 800 Loss 0.0523\n",
            "Epoch 47 Batch 900 Loss 0.0376\n",
            "Epoch 47 Batch 1000 Loss 0.0342\n",
            "Epoch 47 Batch 1100 Loss 0.0483\n",
            "Epoch 47 Batch 1200 Loss 0.0558\n",
            "Epoch 47 Loss 0.0389\n",
            "Time taken for 1 epoch 96.59514284133911 sec\n",
            "\n",
            "Epoch 48 Batch 0 Loss 0.0269\n",
            "Epoch 48 Batch 100 Loss 0.0467\n",
            "Epoch 48 Batch 200 Loss 0.0314\n",
            "Epoch 48 Batch 300 Loss 0.0260\n",
            "Epoch 48 Batch 400 Loss 0.0286\n",
            "Epoch 48 Batch 500 Loss 0.0283\n",
            "Epoch 48 Batch 600 Loss 0.0361\n",
            "Epoch 48 Batch 700 Loss 0.0456\n",
            "Epoch 48 Batch 800 Loss 0.0429\n",
            "Epoch 48 Batch 900 Loss 0.0546\n",
            "Epoch 48 Batch 1000 Loss 0.0517\n",
            "Epoch 48 Batch 1100 Loss 0.0446\n",
            "Epoch 48 Batch 1200 Loss 0.0422\n",
            "Epoch 48 Loss 0.0389\n",
            "Time taken for 1 epoch 97.57115316390991 sec\n",
            "\n",
            "Epoch 49 Batch 0 Loss 0.0234\n",
            "Epoch 49 Batch 100 Loss 0.0228\n",
            "Epoch 49 Batch 200 Loss 0.0208\n",
            "Epoch 49 Batch 300 Loss 0.0206\n",
            "Epoch 49 Batch 400 Loss 0.0311\n",
            "Epoch 49 Batch 500 Loss 0.0345\n",
            "Epoch 49 Batch 600 Loss 0.0528\n",
            "Epoch 49 Batch 700 Loss 0.0361\n",
            "Epoch 49 Batch 800 Loss 0.0320\n",
            "Epoch 49 Batch 900 Loss 0.0347\n",
            "Epoch 49 Batch 1000 Loss 0.0465\n",
            "Epoch 49 Batch 1100 Loss 0.0383\n",
            "Epoch 49 Batch 1200 Loss 0.0508\n",
            "Epoch 49 Loss 0.0396\n",
            "Time taken for 1 epoch 96.53807997703552 sec\n",
            "\n",
            "Epoch 50 Batch 0 Loss 0.0314\n",
            "Epoch 50 Batch 100 Loss 0.0257\n",
            "Epoch 50 Batch 200 Loss 0.0168\n",
            "Epoch 50 Batch 300 Loss 0.0420\n",
            "Epoch 50 Batch 400 Loss 0.0322\n",
            "Epoch 50 Batch 500 Loss 0.0231\n",
            "Epoch 50 Batch 600 Loss 0.0146\n",
            "Epoch 50 Batch 700 Loss 0.0361\n",
            "Epoch 50 Batch 800 Loss 0.0409\n",
            "Epoch 50 Batch 900 Loss 0.0391\n",
            "Epoch 50 Batch 1000 Loss 0.0268\n",
            "Epoch 50 Batch 1100 Loss 0.0417\n",
            "Epoch 50 Batch 1200 Loss 0.0320\n",
            "Epoch 50 Loss 0.0391\n",
            "Time taken for 1 epoch 97.18477034568787 sec\n",
            "\n"
          ]
        }
      ]
    },
    {
      "cell_type": "markdown",
      "source": [
        "## Обучим модель без внимания"
      ],
      "metadata": {
        "id": "Iz5Wh7LPjrNs"
      }
    },
    {
      "cell_type": "code",
      "source": [
        "BUFFER_SIZE = len(input_tensor_train)\n",
        "BATCH_SIZE = 64\n",
        "steps_per_epoch = len(input_tensor_train)//BATCH_SIZE\n",
        "embedding_dim = 300\n",
        "units = 1024\n",
        "vocab_inp_size = len(inp_lang.word_index)+1\n",
        "vocab_tar_size = len(targ_lang.word_index)+1\n",
        "\n",
        "dataset = tf.data.Dataset.from_tensor_slices((input_tensor_train, target_tensor_train)).shuffle(BUFFER_SIZE)\n",
        "dataset = dataset.batch(BATCH_SIZE, drop_remainder=True)"
      ],
      "metadata": {
        "id": "DIU2L4wnjvdo"
      },
      "execution_count": 29,
      "outputs": []
    },
    {
      "cell_type": "code",
      "source": [
        "example_input_batch, example_target_batch = next(iter(dataset))\n",
        "example_input_batch.shape, example_target_batch.shape"
      ],
      "metadata": {
        "colab": {
          "base_uri": "https://localhost:8080/"
        },
        "id": "AuwCm4Ukjwm4",
        "outputId": "89a63391-145d-4e15-e153-d0a43623d6f9"
      },
      "execution_count": 30,
      "outputs": [
        {
          "output_type": "execute_result",
          "data": {
            "text/plain": [
              "(TensorShape([64, 15]), TensorShape([64, 11]))"
            ]
          },
          "metadata": {},
          "execution_count": 30
        }
      ]
    },
    {
      "cell_type": "code",
      "source": [
        "class Encoder_no_att(tf.keras.Model):\n",
        "  def __init__(self, vocab_size, embedding_dim, enc_units, batch_sz):\n",
        "    super(Encoder_no_att, self).__init__()\n",
        "    self.batch_sz = batch_sz\n",
        "    self.enc_units = enc_units\n",
        "    self.embedding = tf.keras.layers.Embedding(vocab_size, embedding_dim)\n",
        "    self.gru = tf.keras.layers.GRU(self.enc_units,\n",
        "                                   return_sequences=False,\n",
        "                                   return_state=True,\n",
        "                                   recurrent_initializer='glorot_uniform')\n",
        "    \n",
        "\n",
        "  def call(self, x, hidden):\n",
        "    x = self.embedding(x)\n",
        "    output, state = self.gru(x, initial_state = hidden)\n",
        "    return state\n",
        "\n",
        "  def initialize_hidden_state(self):\n",
        "    return tf.zeros((self.batch_sz, self.enc_units))"
      ],
      "metadata": {
        "id": "_svS3QsEjybz"
      },
      "execution_count": 31,
      "outputs": []
    },
    {
      "cell_type": "code",
      "source": [
        "encoder_no_att = Encoder_no_att(vocab_inp_size, embedding_dim, units, BATCH_SIZE)\n",
        "\n",
        "# sample input\n",
        "sample_hidden = encoder_no_att.initialize_hidden_state()\n",
        "sample_hidden = encoder_no_att(example_input_batch, sample_hidden)\n",
        "# print ('Encoder output shape: (batch size, sequence length, units) {}'.format(sample_output.shape))\n",
        "print ('Encoder Hidden state shape: (batch size, units) {}'.format(sample_hidden.shape))"
      ],
      "metadata": {
        "colab": {
          "base_uri": "https://localhost:8080/"
        },
        "id": "kifauvJ6j50j",
        "outputId": "06b5ebf5-53da-4298-d13d-61238d8b6d2e"
      },
      "execution_count": 32,
      "outputs": [
        {
          "output_type": "stream",
          "name": "stdout",
          "text": [
            "Encoder Hidden state shape: (batch size, units) (64, 1024)\n"
          ]
        }
      ]
    },
    {
      "cell_type": "code",
      "source": [
        "class Decoder_no_att(tf.keras.Model):\n",
        "  def __init__(self, vocab_size, embedding_dim, dec_units, batch_sz):\n",
        "    super(Decoder_no_att, self).__init__()\n",
        "    self.batch_sz = batch_sz\n",
        "    self.dec_units = dec_units\n",
        "    self.embedding = tf.keras.layers.Embedding(vocab_size, embedding_dim)\n",
        "    self.gru = tf.keras.layers.GRU(self.dec_units,\n",
        "                                   return_sequences=True,\n",
        "                                   return_state=True,\n",
        "                                   recurrent_initializer='glorot_uniform')\n",
        "    self.fc = tf.keras.layers.Dense(vocab_size)\n",
        "\n",
        "  def call(self, x, hidden):\n",
        "    # enc_output shape == (batch_size, max_length, hidden_size)\n",
        "\n",
        "    # x shape after passing through embedding == (batch_size, 1, embedding_dim)\n",
        "    x = self.embedding(x)\n",
        "\n",
        "    # x shape after concatenation == (batch_size, 1, embedding_dim + hidden_size)\n",
        "\n",
        "    # passing the concatenated vector to the GRU\n",
        "    output, state = self.gru(x, initial_state=hidden)\n",
        "\n",
        "    # output shape == (batch_size * 1, hidden_size)\n",
        "    output = tf.reshape(output, (-1, output.shape[2]))\n",
        "\n",
        "    # output shape == (batch_size, vocab)\n",
        "    x = self.fc(output)\n",
        "\n",
        "    return x, state"
      ],
      "metadata": {
        "id": "ppZMPZOBj92y"
      },
      "execution_count": 33,
      "outputs": []
    },
    {
      "cell_type": "code",
      "source": [
        "decoder_no_att = Decoder_no_att(vocab_tar_size, embedding_dim, units, BATCH_SIZE)\n",
        "\n",
        "decoder_sample_x, decoder_sample_h = decoder_no_att(tf.random.uniform((BATCH_SIZE, 1)),\n",
        "                                      sample_hidden)"
      ],
      "metadata": {
        "id": "lGN8BZY2kFHX"
      },
      "execution_count": 34,
      "outputs": []
    },
    {
      "cell_type": "code",
      "source": [
        "optimizer = tf.keras.optimizers.Adam()\n",
        "\n",
        "loss_object = tf.keras.losses.SparseCategoricalCrossentropy(\n",
        "    from_logits=True, reduction='none')\n",
        "\n",
        "def loss_function(real, pred):\n",
        "  mask = tf.math.logical_not(tf.math.equal(real, 0))\n",
        "  loss_ = loss_object(real, pred)\n",
        "\n",
        "  mask = tf.cast(mask, dtype=loss_.dtype)\n",
        "  loss_ *= mask\n",
        "\n",
        "  return tf.reduce_mean(loss_)"
      ],
      "metadata": {
        "id": "tpmTaCi0kJ1p"
      },
      "execution_count": 35,
      "outputs": []
    },
    {
      "cell_type": "code",
      "source": [
        "checkpoint_dir = './training_nmt_checkpoints'\n",
        "\n",
        "checkpoint_prefix = os.path.join(checkpoint_dir, \"ckpt\")\n",
        "\n",
        "checkpoint = tf.train.Checkpoint(optimizer=optimizer,\n",
        "                                 encoder=encoder_no_att,\n",
        "                                 decoder=decoder_no_att)"
      ],
      "metadata": {
        "id": "VkQSGfvykNCE"
      },
      "execution_count": 36,
      "outputs": []
    },
    {
      "cell_type": "code",
      "source": [
        "@tf.function\n",
        "def train_step(inp, targ, enc_hidden):\n",
        "  loss = 0\n",
        "\n",
        "  with tf.GradientTape() as tape:\n",
        "    enc_hidden = encoder_no_att(inp, enc_hidden)\n",
        "\n",
        "    dec_hidden = enc_hidden\n",
        "\n",
        "    dec_input = tf.expand_dims([targ_lang.word_index['<start>']] * BATCH_SIZE, 1)\n",
        "\n",
        "    # Teacher forcing - feeding the target as the next input\n",
        "    for t in range(1, targ.shape[1]):\n",
        "      # passing enc_output to the decoder\n",
        "      predictions, dec_hidden = decoder_no_att(dec_input, dec_hidden)\n",
        "\n",
        "      loss += loss_function(targ[:, t], predictions)\n",
        "\n",
        "      # using teacher forcing\n",
        "      dec_input = tf.expand_dims(targ[:, t], 1)\n",
        "\n",
        "  batch_loss = (loss / int(targ.shape[1]))\n",
        "\n",
        "  variables = encoder_no_att.trainable_variables + decoder_no_att.trainable_variables\n",
        "\n",
        "  gradients = tape.gradient(loss, variables)\n",
        "\n",
        "  optimizer.apply_gradients(zip(gradients, variables))\n",
        "\n",
        "  return batch_loss"
      ],
      "metadata": {
        "id": "2qFPfxTUkO8d"
      },
      "execution_count": 37,
      "outputs": []
    },
    {
      "cell_type": "code",
      "source": [
        "EPOCHS = 25\n",
        "\n",
        "for epoch in range(EPOCHS):\n",
        "  start = time.time()\n",
        "\n",
        "  enc_hidden = encoder_no_att.initialize_hidden_state()\n",
        "  total_loss = 0\n",
        "\n",
        "  for (batch, (inp, targ)) in enumerate(dataset.take(steps_per_epoch)):\n",
        "    batch_loss = train_step(inp, targ, enc_hidden)\n",
        "    total_loss += batch_loss\n",
        "\n",
        "    if batch % 100 == 0:\n",
        "      print('Epoch {} Batch {} Loss {:.4f}'.format(epoch + 1,\n",
        "                                                   batch,\n",
        "                                                   batch_loss.numpy()))\n",
        "  # saving (checkpoint) the model every 2 epochs\n",
        "  if (epoch + 1) % 2 == 0:\n",
        "    checkpoint.save(file_prefix = checkpoint_prefix)\n",
        "\n",
        "  print('Epoch {} Loss {:.4f}'.format(epoch + 1,\n",
        "                                      total_loss / steps_per_epoch))\n",
        "  print('Time taken for 1 epoch {} sec\\n'.format(time.time() - start))"
      ],
      "metadata": {
        "colab": {
          "base_uri": "https://localhost:8080/"
        },
        "id": "fLAcnnMCkVEJ",
        "outputId": "dca9877a-0638-4a4e-f934-ff755d1cda4e"
      },
      "execution_count": 50,
      "outputs": [
        {
          "output_type": "stream",
          "name": "stdout",
          "text": [
            "Epoch 1 Batch 0 Loss 0.0536\n",
            "Epoch 1 Batch 100 Loss 0.0467\n",
            "Epoch 1 Batch 200 Loss 0.0528\n",
            "Epoch 1 Batch 300 Loss 0.0665\n",
            "Epoch 1 Batch 400 Loss 0.0457\n",
            "Epoch 1 Batch 500 Loss 0.0479\n",
            "Epoch 1 Batch 600 Loss 0.0757\n",
            "Epoch 1 Batch 700 Loss 0.0491\n",
            "Epoch 1 Batch 800 Loss 0.0405\n",
            "Epoch 1 Batch 900 Loss 0.0311\n",
            "Epoch 1 Batch 1000 Loss 0.1023\n",
            "Epoch 1 Batch 1100 Loss 0.0589\n",
            "Epoch 1 Batch 1200 Loss 0.0501\n",
            "Epoch 1 Loss 0.0584\n",
            "Time taken for 1 epoch 56.94814467430115 sec\n",
            "\n",
            "Epoch 2 Batch 0 Loss 0.0546\n",
            "Epoch 2 Batch 100 Loss 0.0430\n",
            "Epoch 2 Batch 200 Loss 0.0468\n",
            "Epoch 2 Batch 300 Loss 0.0613\n",
            "Epoch 2 Batch 400 Loss 0.0660\n",
            "Epoch 2 Batch 500 Loss 0.0433\n",
            "Epoch 2 Batch 600 Loss 0.0328\n",
            "Epoch 2 Batch 700 Loss 0.0419\n",
            "Epoch 2 Batch 800 Loss 0.0608\n",
            "Epoch 2 Batch 900 Loss 0.0823\n",
            "Epoch 2 Batch 1000 Loss 0.0307\n",
            "Epoch 2 Batch 1100 Loss 0.0761\n",
            "Epoch 2 Batch 1200 Loss 0.0389\n",
            "Epoch 2 Loss 0.0566\n",
            "Time taken for 1 epoch 57.24363970756531 sec\n",
            "\n",
            "Epoch 3 Batch 0 Loss 0.0476\n",
            "Epoch 3 Batch 100 Loss 0.0403\n",
            "Epoch 3 Batch 200 Loss 0.0766\n",
            "Epoch 3 Batch 300 Loss 0.0830\n",
            "Epoch 3 Batch 400 Loss 0.0383\n",
            "Epoch 3 Batch 500 Loss 0.0324\n",
            "Epoch 3 Batch 600 Loss 0.0485\n",
            "Epoch 3 Batch 700 Loss 0.0524\n",
            "Epoch 3 Batch 800 Loss 0.1302\n",
            "Epoch 3 Batch 900 Loss 0.0499\n",
            "Epoch 3 Batch 1000 Loss 0.0512\n",
            "Epoch 3 Batch 1200 Loss 0.0780\n",
            "Epoch 3 Loss 0.0563\n",
            "Time taken for 1 epoch 56.757827043533325 sec\n",
            "\n",
            "Epoch 4 Batch 0 Loss 0.0458\n",
            "Epoch 4 Batch 100 Loss 0.0321\n",
            "Epoch 4 Batch 200 Loss 0.0378\n",
            "Epoch 4 Batch 300 Loss 0.0309\n",
            "Epoch 4 Batch 400 Loss 0.0491\n",
            "Epoch 4 Batch 500 Loss 0.0513\n",
            "Epoch 4 Batch 600 Loss 0.0555\n",
            "Epoch 4 Batch 700 Loss 0.0444\n",
            "Epoch 4 Batch 800 Loss 0.0439\n",
            "Epoch 4 Batch 900 Loss 0.0582\n",
            "Epoch 4 Batch 1000 Loss 0.0629\n",
            "Epoch 4 Batch 1100 Loss 0.0910\n",
            "Epoch 4 Batch 1200 Loss 0.0497\n",
            "Epoch 4 Loss 0.0551\n",
            "Time taken for 1 epoch 57.340049028396606 sec\n",
            "\n",
            "Epoch 5 Batch 0 Loss 0.0831\n",
            "Epoch 5 Batch 100 Loss 0.0585\n",
            "Epoch 5 Batch 200 Loss 0.0299\n",
            "Epoch 5 Batch 300 Loss 0.0538\n",
            "Epoch 5 Batch 400 Loss 0.0349\n",
            "Epoch 5 Batch 500 Loss 0.0347\n",
            "Epoch 5 Batch 600 Loss 0.0742\n",
            "Epoch 5 Batch 700 Loss 0.0708\n",
            "Epoch 5 Batch 800 Loss 0.0921\n",
            "Epoch 5 Batch 900 Loss 0.0440\n",
            "Epoch 5 Batch 1000 Loss 0.0776\n",
            "Epoch 5 Batch 1100 Loss 0.0434\n",
            "Epoch 5 Batch 1200 Loss 0.0697\n",
            "Epoch 5 Loss 0.0547\n",
            "Time taken for 1 epoch 56.63684606552124 sec\n",
            "\n",
            "Epoch 6 Batch 0 Loss 0.0350\n",
            "Epoch 6 Batch 100 Loss 0.0428\n",
            "Epoch 6 Batch 200 Loss 0.0392\n",
            "Epoch 6 Batch 300 Loss 0.0519\n",
            "Epoch 6 Batch 400 Loss 0.0323\n",
            "Epoch 6 Batch 500 Loss 0.0779\n",
            "Epoch 6 Batch 600 Loss 0.0317\n",
            "Epoch 6 Batch 700 Loss 0.0515\n",
            "Epoch 6 Batch 800 Loss 0.0830\n",
            "Epoch 6 Batch 900 Loss 0.0508\n",
            "Epoch 6 Batch 1000 Loss 0.0375\n",
            "Epoch 6 Batch 1100 Loss 0.0609\n",
            "Epoch 6 Batch 1200 Loss 0.0801\n",
            "Epoch 6 Loss 0.0541\n",
            "Time taken for 1 epoch 57.18702578544617 sec\n",
            "\n",
            "Epoch 7 Batch 0 Loss 0.0540\n",
            "Epoch 7 Batch 100 Loss 0.0313\n",
            "Epoch 7 Batch 200 Loss 0.0533\n",
            "Epoch 7 Batch 300 Loss 0.0314\n",
            "Epoch 7 Batch 400 Loss 0.0263\n",
            "Epoch 7 Batch 500 Loss 0.0428\n",
            "Epoch 7 Batch 600 Loss 0.0604\n",
            "Epoch 7 Batch 700 Loss 0.0838\n",
            "Epoch 7 Batch 800 Loss 0.0480\n",
            "Epoch 7 Batch 900 Loss 0.0310\n",
            "Epoch 7 Batch 1000 Loss 0.0911\n",
            "Epoch 7 Batch 1100 Loss 0.1017\n",
            "Epoch 7 Batch 1200 Loss 0.0727\n",
            "Epoch 7 Loss 0.0529\n",
            "Time taken for 1 epoch 56.718003034591675 sec\n",
            "\n",
            "Epoch 8 Batch 0 Loss 0.0263\n",
            "Epoch 8 Batch 100 Loss 0.0501\n",
            "Epoch 8 Batch 200 Loss 0.0257\n",
            "Epoch 8 Batch 300 Loss 0.0475\n",
            "Epoch 8 Batch 400 Loss 0.0395\n",
            "Epoch 8 Batch 500 Loss 0.0583\n",
            "Epoch 8 Batch 600 Loss 0.0589\n",
            "Epoch 8 Batch 700 Loss 0.0370\n",
            "Epoch 8 Batch 800 Loss 0.0741\n",
            "Epoch 8 Batch 900 Loss 0.0422\n",
            "Epoch 8 Batch 1000 Loss 0.0570\n",
            "Epoch 8 Batch 1100 Loss 0.0545\n",
            "Epoch 8 Batch 1200 Loss 0.0527\n",
            "Epoch 8 Loss 0.0527\n",
            "Time taken for 1 epoch 57.29905438423157 sec\n",
            "\n",
            "Epoch 9 Batch 0 Loss 0.0319\n",
            "Epoch 9 Batch 100 Loss 0.0455\n",
            "Epoch 9 Batch 200 Loss 0.0751\n",
            "Epoch 9 Batch 300 Loss 0.0537\n",
            "Epoch 9 Batch 400 Loss 0.0528\n",
            "Epoch 9 Batch 500 Loss 0.0649\n",
            "Epoch 9 Batch 600 Loss 0.0321\n",
            "Epoch 9 Batch 700 Loss 0.0728\n",
            "Epoch 9 Batch 800 Loss 0.0589\n",
            "Epoch 9 Batch 900 Loss 0.0690\n",
            "Epoch 9 Batch 1000 Loss 0.0691\n",
            "Epoch 9 Batch 1100 Loss 0.0700\n",
            "Epoch 9 Batch 1200 Loss 0.0471\n",
            "Epoch 9 Loss 0.0516\n",
            "Time taken for 1 epoch 56.72376370429993 sec\n",
            "\n",
            "Epoch 10 Batch 0 Loss 0.0290\n",
            "Epoch 10 Batch 100 Loss 0.0381\n",
            "Epoch 10 Batch 200 Loss 0.0659\n",
            "Epoch 10 Batch 300 Loss 0.0355\n",
            "Epoch 10 Batch 400 Loss 0.0548\n",
            "Epoch 10 Batch 500 Loss 0.0442\n",
            "Epoch 10 Batch 600 Loss 0.0226\n",
            "Epoch 10 Batch 700 Loss 0.0595\n",
            "Epoch 10 Batch 800 Loss 0.0654\n",
            "Epoch 10 Batch 900 Loss 0.0613\n",
            "Epoch 10 Batch 1000 Loss 0.0617\n",
            "Epoch 10 Batch 1100 Loss 0.0388\n",
            "Epoch 10 Batch 1200 Loss 0.0888\n",
            "Epoch 10 Loss 0.0514\n",
            "Time taken for 1 epoch 57.36378312110901 sec\n",
            "\n",
            "Epoch 11 Batch 0 Loss 0.0201\n",
            "Epoch 11 Batch 100 Loss 0.0697\n",
            "Epoch 11 Batch 200 Loss 0.0276\n",
            "Epoch 11 Batch 300 Loss 0.0679\n",
            "Epoch 11 Batch 400 Loss 0.0307\n",
            "Epoch 11 Batch 500 Loss 0.0391\n",
            "Epoch 11 Batch 600 Loss 0.0345\n",
            "Epoch 11 Batch 700 Loss 0.0392\n",
            "Epoch 11 Batch 800 Loss 0.0658\n",
            "Epoch 11 Batch 900 Loss 0.0580\n",
            "Epoch 11 Batch 1000 Loss 0.0929\n",
            "Epoch 11 Batch 1100 Loss 0.0572\n",
            "Epoch 11 Batch 1200 Loss 0.0432\n",
            "Epoch 11 Loss 0.0509\n",
            "Time taken for 1 epoch 56.7312650680542 sec\n",
            "\n",
            "Epoch 12 Batch 0 Loss 0.0394\n",
            "Epoch 12 Batch 100 Loss 0.0551\n",
            "Epoch 12 Batch 200 Loss 0.0187\n",
            "Epoch 12 Batch 300 Loss 0.0498\n",
            "Epoch 12 Batch 400 Loss 0.0327\n",
            "Epoch 12 Batch 500 Loss 0.0380\n",
            "Epoch 12 Batch 600 Loss 0.0475\n",
            "Epoch 12 Batch 700 Loss 0.0542\n",
            "Epoch 12 Batch 800 Loss 0.0342\n",
            "Epoch 12 Batch 900 Loss 0.0487\n",
            "Epoch 12 Batch 1000 Loss 0.0292\n",
            "Epoch 12 Batch 1100 Loss 0.0641\n",
            "Epoch 12 Batch 1200 Loss 0.0633\n",
            "Epoch 12 Loss 0.0503\n",
            "Time taken for 1 epoch 57.36347723007202 sec\n",
            "\n",
            "Epoch 13 Batch 0 Loss 0.0348\n",
            "Epoch 13 Batch 100 Loss 0.0558\n",
            "Epoch 13 Batch 200 Loss 0.0577\n",
            "Epoch 13 Batch 300 Loss 0.0734\n",
            "Epoch 13 Batch 400 Loss 0.0535\n",
            "Epoch 13 Batch 500 Loss 0.0706\n",
            "Epoch 13 Batch 600 Loss 0.0510\n",
            "Epoch 13 Batch 700 Loss 0.0327\n",
            "Epoch 13 Batch 800 Loss 0.0475\n",
            "Epoch 13 Batch 900 Loss 0.0730\n",
            "Epoch 13 Batch 1000 Loss 0.0565\n",
            "Epoch 13 Batch 1100 Loss 0.0487\n",
            "Epoch 13 Batch 1200 Loss 0.0276\n",
            "Epoch 13 Loss 0.0504\n",
            "Time taken for 1 epoch 56.72425436973572 sec\n",
            "\n",
            "Epoch 14 Batch 0 Loss 0.0387\n",
            "Epoch 14 Batch 100 Loss 0.0317\n",
            "Epoch 14 Batch 200 Loss 0.0525\n",
            "Epoch 14 Batch 300 Loss 0.0284\n",
            "Epoch 14 Batch 400 Loss 0.0389\n",
            "Epoch 14 Batch 500 Loss 0.0604\n",
            "Epoch 14 Batch 600 Loss 0.0792\n",
            "Epoch 14 Batch 700 Loss 0.0500\n",
            "Epoch 14 Batch 800 Loss 0.0734\n",
            "Epoch 14 Batch 900 Loss 0.0567\n",
            "Epoch 14 Batch 1000 Loss 0.0337\n",
            "Epoch 14 Batch 1100 Loss 0.0558\n",
            "Epoch 14 Batch 1200 Loss 0.0409\n",
            "Epoch 14 Loss 0.0494\n",
            "Time taken for 1 epoch 57.29978394508362 sec\n",
            "\n",
            "Epoch 15 Batch 0 Loss 0.0408\n",
            "Epoch 15 Batch 100 Loss 0.0407\n",
            "Epoch 15 Batch 200 Loss 0.0200\n",
            "Epoch 15 Batch 300 Loss 0.0596\n",
            "Epoch 15 Batch 400 Loss 0.0436\n",
            "Epoch 15 Batch 500 Loss 0.0589\n",
            "Epoch 15 Batch 600 Loss 0.0305\n",
            "Epoch 15 Batch 700 Loss 0.0618\n",
            "Epoch 15 Batch 800 Loss 0.0550\n",
            "Epoch 15 Batch 900 Loss 0.0636\n",
            "Epoch 15 Batch 1000 Loss 0.0447\n",
            "Epoch 15 Batch 1100 Loss 0.0545\n",
            "Epoch 15 Batch 1200 Loss 0.0406\n",
            "Epoch 15 Loss 0.0496\n",
            "Time taken for 1 epoch 56.75671911239624 sec\n",
            "\n",
            "Epoch 16 Batch 0 Loss 0.0345\n",
            "Epoch 16 Batch 100 Loss 0.0429\n",
            "Epoch 16 Batch 200 Loss 0.0387\n",
            "Epoch 16 Batch 300 Loss 0.0337\n",
            "Epoch 16 Batch 400 Loss 0.0194\n",
            "Epoch 16 Batch 500 Loss 0.0611\n",
            "Epoch 16 Batch 600 Loss 0.0726\n",
            "Epoch 16 Batch 700 Loss 0.1108\n",
            "Epoch 16 Batch 800 Loss 0.0284\n",
            "Epoch 16 Batch 900 Loss 0.0429\n",
            "Epoch 16 Batch 1000 Loss 0.0285\n",
            "Epoch 16 Batch 1100 Loss 0.0556\n",
            "Epoch 16 Batch 1200 Loss 0.0348\n",
            "Epoch 16 Loss 0.0486\n",
            "Time taken for 1 epoch 57.43645477294922 sec\n",
            "\n",
            "Epoch 17 Batch 0 Loss 0.0397\n",
            "Epoch 17 Batch 100 Loss 0.0463\n",
            "Epoch 17 Batch 200 Loss 0.0595\n",
            "Epoch 17 Batch 300 Loss 0.0482\n",
            "Epoch 17 Batch 400 Loss 0.0527\n",
            "Epoch 17 Batch 500 Loss 0.0419\n",
            "Epoch 17 Batch 600 Loss 0.0585\n",
            "Epoch 17 Batch 700 Loss 0.0459\n",
            "Epoch 17 Batch 800 Loss 0.0408\n",
            "Epoch 17 Batch 900 Loss 0.0684\n",
            "Epoch 17 Batch 1000 Loss 0.0486\n",
            "Epoch 17 Batch 1100 Loss 0.0512\n",
            "Epoch 17 Batch 1200 Loss 0.0791\n",
            "Epoch 17 Loss 0.0488\n",
            "Time taken for 1 epoch 56.702850580215454 sec\n",
            "\n",
            "Epoch 18 Batch 0 Loss 0.0192\n",
            "Epoch 18 Batch 100 Loss 0.0476\n",
            "Epoch 18 Batch 200 Loss 0.0233\n",
            "Epoch 18 Batch 300 Loss 0.0364\n",
            "Epoch 18 Batch 400 Loss 0.0600\n",
            "Epoch 18 Batch 500 Loss 0.0375\n",
            "Epoch 18 Batch 600 Loss 0.0360\n",
            "Epoch 18 Batch 700 Loss 0.0799\n",
            "Epoch 18 Batch 800 Loss 0.0495\n",
            "Epoch 18 Batch 900 Loss 0.0664\n",
            "Epoch 18 Batch 1000 Loss 0.0543\n",
            "Epoch 18 Batch 1100 Loss 0.0338\n",
            "Epoch 18 Batch 1200 Loss 0.0917\n",
            "Epoch 18 Loss 0.0477\n",
            "Time taken for 1 epoch 57.265888690948486 sec\n",
            "\n",
            "Epoch 19 Batch 0 Loss 0.0774\n",
            "Epoch 19 Batch 100 Loss 0.0207\n",
            "Epoch 19 Batch 200 Loss 0.0322\n",
            "Epoch 19 Batch 300 Loss 0.0465\n",
            "Epoch 19 Batch 400 Loss 0.0164\n",
            "Epoch 19 Batch 500 Loss 0.0487\n",
            "Epoch 19 Batch 600 Loss 0.0308\n",
            "Epoch 19 Batch 700 Loss 0.0551\n",
            "Epoch 19 Batch 800 Loss 0.0556\n",
            "Epoch 19 Batch 900 Loss 0.0534\n",
            "Epoch 19 Batch 1000 Loss 0.0803\n",
            "Epoch 19 Batch 1100 Loss 0.0238\n",
            "Epoch 19 Batch 1200 Loss 0.0610\n",
            "Epoch 19 Loss 0.0476\n",
            "Time taken for 1 epoch 56.65755844116211 sec\n",
            "\n",
            "Epoch 20 Batch 0 Loss 0.0237\n",
            "Epoch 20 Batch 100 Loss 0.0469\n",
            "Epoch 20 Batch 200 Loss 0.0463\n",
            "Epoch 20 Batch 300 Loss 0.0442\n",
            "Epoch 20 Batch 400 Loss 0.0528\n",
            "Epoch 20 Batch 500 Loss 0.0314\n",
            "Epoch 20 Batch 600 Loss 0.0546\n",
            "Epoch 20 Batch 700 Loss 0.0474\n",
            "Epoch 20 Batch 800 Loss 0.0407\n",
            "Epoch 20 Batch 900 Loss 0.0646\n",
            "Epoch 20 Batch 1000 Loss 0.0390\n",
            "Epoch 20 Batch 1100 Loss 0.0325\n",
            "Epoch 20 Batch 1200 Loss 0.0730\n",
            "Epoch 20 Loss 0.0472\n",
            "Time taken for 1 epoch 57.28445792198181 sec\n",
            "\n",
            "Epoch 21 Batch 0 Loss 0.0169\n",
            "Epoch 21 Batch 100 Loss 0.0195\n",
            "Epoch 21 Batch 200 Loss 0.0728\n",
            "Epoch 21 Batch 300 Loss 0.0359\n",
            "Epoch 21 Batch 400 Loss 0.0581\n",
            "Epoch 21 Batch 500 Loss 0.0941\n",
            "Epoch 21 Batch 600 Loss 0.0344\n",
            "Epoch 21 Batch 700 Loss 0.0429\n",
            "Epoch 21 Batch 800 Loss 0.0365\n",
            "Epoch 21 Batch 900 Loss 0.0411\n",
            "Epoch 21 Batch 1000 Loss 0.0546\n",
            "Epoch 21 Batch 1100 Loss 0.0975\n",
            "Epoch 21 Batch 1200 Loss 0.0519\n",
            "Epoch 21 Loss 0.0473\n",
            "Time taken for 1 epoch 56.71742272377014 sec\n",
            "\n",
            "Epoch 22 Batch 0 Loss 0.0527\n",
            "Epoch 22 Batch 100 Loss 0.0300\n",
            "Epoch 22 Batch 200 Loss 0.0425\n",
            "Epoch 22 Batch 300 Loss 0.0321\n",
            "Epoch 22 Batch 400 Loss 0.0505\n",
            "Epoch 22 Batch 500 Loss 0.0420\n",
            "Epoch 22 Batch 600 Loss 0.0480\n",
            "Epoch 22 Batch 700 Loss 0.0665\n",
            "Epoch 22 Batch 800 Loss 0.0501\n",
            "Epoch 22 Batch 900 Loss 0.0408\n",
            "Epoch 22 Batch 1000 Loss 0.0424\n",
            "Epoch 22 Batch 1100 Loss 0.0650\n",
            "Epoch 22 Batch 1200 Loss 0.0431\n",
            "Epoch 22 Loss 0.0469\n",
            "Time taken for 1 epoch 57.29031038284302 sec\n",
            "\n",
            "Epoch 23 Batch 0 Loss 0.0297\n",
            "Epoch 23 Batch 100 Loss 0.0289\n",
            "Epoch 23 Batch 200 Loss 0.0190\n",
            "Epoch 23 Batch 300 Loss 0.0490\n",
            "Epoch 23 Batch 400 Loss 0.0265\n",
            "Epoch 23 Batch 500 Loss 0.0738\n",
            "Epoch 23 Batch 600 Loss 0.0496\n",
            "Epoch 23 Batch 700 Loss 0.0484\n",
            "Epoch 23 Batch 800 Loss 0.0595\n",
            "Epoch 23 Batch 900 Loss 0.0360\n",
            "Epoch 23 Batch 1000 Loss 0.1001\n",
            "Epoch 23 Batch 1100 Loss 0.0370\n",
            "Epoch 23 Batch 1200 Loss 0.0469\n",
            "Epoch 23 Loss 0.0467\n",
            "Time taken for 1 epoch 56.65390753746033 sec\n",
            "\n",
            "Epoch 24 Batch 0 Loss 0.0277\n",
            "Epoch 24 Batch 100 Loss 0.0569\n",
            "Epoch 24 Batch 200 Loss 0.0200\n",
            "Epoch 24 Batch 300 Loss 0.0661\n",
            "Epoch 24 Batch 400 Loss 0.0442\n",
            "Epoch 24 Batch 500 Loss 0.0430\n",
            "Epoch 24 Batch 600 Loss 0.0416\n",
            "Epoch 24 Batch 700 Loss 0.0381\n",
            "Epoch 24 Batch 800 Loss 0.0501\n",
            "Epoch 24 Batch 900 Loss 0.0424\n",
            "Epoch 24 Batch 1000 Loss 0.0434\n",
            "Epoch 24 Batch 1100 Loss 0.0584\n",
            "Epoch 24 Batch 1200 Loss 0.0570\n",
            "Epoch 24 Loss 0.0457\n",
            "Time taken for 1 epoch 57.31545281410217 sec\n",
            "\n",
            "Epoch 25 Batch 0 Loss 0.0299\n",
            "Epoch 25 Batch 100 Loss 0.0305\n",
            "Epoch 25 Batch 200 Loss 0.0388\n",
            "Epoch 25 Batch 300 Loss 0.0236\n",
            "Epoch 25 Batch 400 Loss 0.0347\n",
            "Epoch 25 Batch 500 Loss 0.0546\n",
            "Epoch 25 Batch 600 Loss 0.0268\n",
            "Epoch 25 Batch 700 Loss 0.0907\n",
            "Epoch 25 Batch 800 Loss 0.0844\n",
            "Epoch 25 Batch 900 Loss 0.0822\n",
            "Epoch 25 Batch 1000 Loss 0.0387\n",
            "Epoch 25 Batch 1100 Loss 0.0393\n",
            "Epoch 25 Batch 1200 Loss 0.0726\n",
            "Epoch 25 Loss 0.0456\n",
            "Time taken for 1 epoch 56.640031814575195 sec\n",
            "\n"
          ]
        }
      ]
    },
    {
      "cell_type": "markdown",
      "metadata": {
        "id": "mU3Ce8M6I3rz"
      },
      "source": [
        "## Translate\n",
        "\n",
        "* The evaluate function is similar to the training loop, except we don't use *teacher forcing* here. The input to the decoder at each time step is its previous predictions along with the hidden state and the encoder output.\n",
        "* Stop predicting when the model predicts the *end token*.\n",
        "* And store the *attention weights for every time step*.\n",
        "\n",
        "Note: The encoder output is calculated only once for one input."
      ]
    },
    {
      "cell_type": "code",
      "metadata": {
        "id": "EbQpyYs13jF_"
      },
      "source": [
        "def evaluate(sentence):\n",
        "  attention_plot = np.zeros((max_length_targ, max_length_inp))\n",
        "\n",
        "  sentence = preprocess_sentence(sentence)\n",
        "\n",
        "  inputs = [inp_lang.word_index[i] for i in sentence.split(' ')]\n",
        "  inputs = tf.keras.preprocessing.sequence.pad_sequences([inputs],\n",
        "                                                         maxlen=max_length_inp,\n",
        "                                                         padding='post')\n",
        "  inputs = tf.convert_to_tensor(inputs)\n",
        "\n",
        "  result = ''\n",
        "\n",
        "  hidden = [tf.zeros((1, units))]\n",
        "  enc_out, enc_hidden = encoder(inputs, hidden)\n",
        "\n",
        "  dec_hidden = enc_hidden\n",
        "  dec_input = tf.expand_dims([targ_lang.word_index['<start>']], 0)\n",
        "\n",
        "  for t in range(max_length_targ):\n",
        "    predictions, dec_hidden, attention_weights = decoder(dec_input,\n",
        "                                                         dec_hidden,\n",
        "                                                         enc_out)\n",
        "\n",
        "    # storing the attention weights to plot later on\n",
        "    attention_weights = tf.reshape(attention_weights, (-1, ))\n",
        "    attention_plot[t] = attention_weights.numpy()\n",
        "\n",
        "    predicted_id = tf.argmax(predictions[0]).numpy()\n",
        "\n",
        "    result += targ_lang.index_word[predicted_id] + ' '\n",
        "\n",
        "    if targ_lang.index_word[predicted_id] == '<end>':\n",
        "      return result, sentence, attention_plot\n",
        "\n",
        "    # the predicted ID is fed back into the model\n",
        "    dec_input = tf.expand_dims([predicted_id], 0)\n",
        "\n",
        "  return result, sentence, attention_plot"
      ],
      "execution_count": 69,
      "outputs": []
    },
    {
      "cell_type": "code",
      "source": [
        "def evaluate_no_att(sentence):\n",
        "  attention_plot = np.zeros((max_length_targ, max_length_inp))\n",
        "\n",
        "  sentence = preprocess_sentence(sentence)\n",
        "\n",
        "  inputs = [inp_lang.word_index[i] for i in sentence.split(' ')]\n",
        "  inputs = tf.keras.preprocessing.sequence.pad_sequences([inputs],\n",
        "                                                         maxlen=max_length_inp,\n",
        "                                                         padding='post')\n",
        "  inputs = tf.convert_to_tensor(inputs)\n",
        "\n",
        "  result = ''\n",
        "\n",
        "  hidden = [tf.zeros((1, units))]\n",
        "  enc_hidden = encoder_no_att(inputs, hidden)\n",
        "\n",
        "  dec_hidden = enc_hidden\n",
        "  dec_input = tf.expand_dims([targ_lang.word_index['<start>']], 0)\n",
        "\n",
        "  for t in range(max_length_targ):\n",
        "    predictions, dec_hidden = decoder_no_att(dec_input, dec_hidden)\n",
        "\n",
        "    # storing the attention weights to plot later on\n",
        "    predicted_id = tf.argmax(predictions[0]).numpy()\n",
        "    result += targ_lang.index_word[predicted_id] + ' '\n",
        "\n",
        "    if targ_lang.index_word[predicted_id] == '<end>':\n",
        "      return result, sentence\n",
        "\n",
        "    # the predicted ID is fed back into the model\n",
        "    dec_input = tf.expand_dims([predicted_id], 0)\n",
        "\n",
        "  return result, sentence"
      ],
      "metadata": {
        "id": "J83aMmHO3UOB"
      },
      "execution_count": 66,
      "outputs": []
    },
    {
      "cell_type": "code",
      "metadata": {
        "id": "sl9zUHzg3jGI"
      },
      "source": [
        "def translate(sentence):\n",
        "  result, sentence_, attention_plot = evaluate(sentence)\n",
        "  result_no_att, sentence_no_att = evaluate_no_att(sentence)\n",
        "\n",
        "  print('Input: %s' % (sentence))\n",
        "  print('Predicted translation with attention: {}'.format(result))\n",
        "  print('Predicted translation without attention: {}'.format(result_no_att))"
      ],
      "execution_count": 67,
      "outputs": []
    },
    {
      "cell_type": "markdown",
      "metadata": {
        "id": "n250XbnjOaqP"
      },
      "source": [
        "## Restore the latest checkpoint and test"
      ]
    },
    {
      "cell_type": "code",
      "metadata": {
        "id": "UJpT9D5_OgP6",
        "colab": {
          "base_uri": "https://localhost:8080/"
        },
        "outputId": "20f4fe27-7161-4e42-c341-5b101c29cc87"
      },
      "source": [
        "# restoring the latest checkpoint in checkpoint_dir\n",
        "checkpoint.restore(tf.train.latest_checkpoint(checkpoint_dir))"
      ],
      "execution_count": 42,
      "outputs": [
        {
          "output_type": "execute_result",
          "data": {
            "text/plain": [
              "<tensorflow.python.training.tracking.util.CheckpointLoadStatus at 0x7f36444b6550>"
            ]
          },
          "metadata": {},
          "execution_count": 42
        }
      ]
    },
    {
      "cell_type": "code",
      "metadata": {
        "id": "WrAM0FDomq3E",
        "colab": {
          "base_uri": "https://localhost:8080/"
        },
        "outputId": "fd566785-a1a2-4090-86a8-cb6f5341ff99"
      },
      "source": [
        "translate('Здесь хорошо.')"
      ],
      "execution_count": 70,
      "outputs": [
        {
          "output_type": "stream",
          "name": "stdout",
          "text": [
            "Input: Здесь хорошо.\n",
            "Predicted translation with attention: it's good here . <end> \n",
            "Predicted translation without attention: here's good . <end> \n"
          ]
        }
      ]
    },
    {
      "cell_type": "markdown",
      "source": [
        "На первом примере модель с вниманием отработала лучше"
      ],
      "metadata": {
        "id": "AvSixgOL8IBi"
      }
    },
    {
      "cell_type": "code",
      "metadata": {
        "id": "5bhFfwcIMX5i",
        "colab": {
          "base_uri": "https://localhost:8080/"
        },
        "outputId": "795f0abe-572b-40ac-80e1-2d1f972f6147"
      },
      "source": [
        "translate('Я не смогу поехать.')"
      ],
      "execution_count": 71,
      "outputs": [
        {
          "output_type": "stream",
          "name": "stdout",
          "text": [
            "Input: Я не смогу поехать.\n",
            "Predicted translation with attention: i can't go . <end> \n",
            "Predicted translation without attention: i can't go . <end> \n"
          ]
        }
      ]
    },
    {
      "cell_type": "markdown",
      "source": [
        "На этом простом примере справились обе модели, попробуем подать текст длинее"
      ],
      "metadata": {
        "id": "AD6ZVxkr8OmK"
      }
    },
    {
      "cell_type": "code",
      "metadata": {
        "id": "zSx2iM36EZQZ",
        "colab": {
          "base_uri": "https://localhost:8080/"
        },
        "outputId": "1be6155c-d924-4aec-a582-571d1d095d32"
      },
      "source": [
        "translate('Она тоже испугалась и быстро помчалась по дороге')"
      ],
      "execution_count": 80,
      "outputs": [
        {
          "output_type": "stream",
          "name": "stdout",
          "text": [
            "Input: Она тоже испугалась и быстро помчалась по дороге\n",
            "Predicted translation with attention: she was her fast . <end> \n",
            "Predicted translation without attention: it also got very fast ? <end> \n"
          ]
        }
      ]
    },
    {
      "cell_type": "markdown",
      "source": [
        "Обе модели отработали плохо, модель без внимания вовсе увидела в этом предложении вопрос"
      ],
      "metadata": {
        "id": "mbvD-7KB8ZC9"
      }
    },
    {
      "cell_type": "code",
      "metadata": {
        "id": "A3LLCx3ZE0Ls",
        "colab": {
          "base_uri": "https://localhost:8080/"
        },
        "outputId": "32b0d580-4bf4-42a9-e13b-59b3f17baf98"
      },
      "source": [
        "translate('Моя мама любит читать, а мой папа любит играть в шахматы с моим братом')"
      ],
      "execution_count": 84,
      "outputs": [
        {
          "output_type": "stream",
          "name": "stdout",
          "text": [
            "Input: Моя мама любит читать, а мой папа любит играть в шахматы с моим братом\n",
            "Predicted translation with attention: mom at my mom at my mom at my mom at \n",
            "Predicted translation without attention: my mom loves my mom . <end> \n"
          ]
        }
      ]
    },
    {
      "cell_type": "markdown",
      "source": [
        "Без комментариев, модель с вниманием выдала больше слов, но почему то вся привязка пошла по одному слову"
      ],
      "metadata": {
        "id": "yAlhowIP8j2M"
      }
    },
    {
      "cell_type": "code",
      "metadata": {
        "id": "DUQVLVqUE1YW",
        "colab": {
          "base_uri": "https://localhost:8080/"
        },
        "outputId": "7376b59f-121e-4ac6-84b9-5260949d47ad"
      },
      "source": [
        "translate('Он хорошо разбирается в математике и всегда помогает мне с ней, я едва понимаю все эти задачи')"
      ],
      "execution_count": 87,
      "outputs": [
        {
          "output_type": "stream",
          "name": "stdout",
          "text": [
            "Input: Он хорошо разбирается в математике и всегда помогает мне с ней, я едва понимаю все эти задачи\n",
            "Predicted translation with attention: all and i all and i all and i all and \n",
            "Predicted translation without attention: i owe you , yen . <end> \n"
          ]
        }
      ]
    },
    {
      "cell_type": "markdown",
      "source": [
        "Все также плохо, говорит о том что модель с вниманием скорее всего научилось брать во внимание первые токены, и мы имеем два повторяющихся слова, возможно также связано с тем что на таких словах как математика, едва, задачи модели попросту не обучились, так как они скорее всего редко встречаются в примерах"
      ],
      "metadata": {
        "id": "nuE5Ra24876G"
      }
    },
    {
      "cell_type": "code",
      "metadata": {
        "id": "f09_hUFx9EJh",
        "colab": {
          "base_uri": "https://localhost:8080/"
        },
        "outputId": "19fe707f-dab3-4711-dd0e-da3881e8181b"
      },
      "source": [
        "translate('Я не люблю, когда идет снег.')"
      ],
      "execution_count": 88,
      "outputs": [
        {
          "output_type": "stream",
          "name": "stdout",
          "text": [
            "Input: Я не люблю, когда идет снег.\n",
            "Predicted translation with attention: i don't think it's snow . <end> \n",
            "Predicted translation without attention: i don't like snow . <end> \n"
          ]
        }
      ]
    },
    {
      "cell_type": "markdown",
      "source": [
        "Попробуем опять не длинные тексты,но как видим модель без внимания отработала лучше"
      ],
      "metadata": {
        "id": "CgvCYslt9g87"
      }
    },
    {
      "cell_type": "code",
      "metadata": {
        "id": "e7c5p8rmkHQG",
        "colab": {
          "base_uri": "https://localhost:8080/"
        },
        "outputId": "81aaa43e-4efd-4b49-e1c6-26f10a6ba977"
      },
      "source": [
        "translate(u'Я никогда такого не делаю.')"
      ],
      "execution_count": 89,
      "outputs": [
        {
          "output_type": "stream",
          "name": "stdout",
          "text": [
            "Input: Я никогда такого не делаю.\n",
            "Predicted translation with attention: i never do that . <end> \n",
            "Predicted translation without attention: i never do that . <end> \n"
          ]
        }
      ]
    },
    {
      "cell_type": "markdown",
      "source": [
        "Обе модели отработали хорошо"
      ],
      "metadata": {
        "id": "l7zEZMtq9wvZ"
      }
    },
    {
      "cell_type": "markdown",
      "source": [
        "**Вывод:** Если в модели подать длинные предложения с редкими словами, как математика к примеру, резльутат будет очень плохой, возможно это связано с тем что в обучающей выборке мало примеров с таким словом, как вариант можно было взять больше примеров, но обучение этих двух моделей использовало все бесплатное время гпу в колабе, но скорее всего обычным увелечением кол-во примеров делу не поможет, так как будет расти дисбаланс слов в примерах, можно лучше обрабатывать обучающую выборку, к примеру регулировать частоту слов я пришел, я приехал и так далее, так как таких общие пары слов могут составлять большой процент от всей массы примеров"
      ],
      "metadata": {
        "id": "nA1H_Ibl-DnV"
      }
    }
  ]
}