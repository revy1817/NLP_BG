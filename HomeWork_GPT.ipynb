{
  "nbformat": 4,
  "nbformat_minor": 0,
  "metadata": {
    "colab": {
      "provenance": [],
      "collapsed_sections": [],
      "mount_file_id": "1yOJ1jSH_VaW86dqAAje5IJHuTuzuJTF-",
      "authorship_tag": "ABX9TyPCExeZGe8p6dQ18zFcq/Rd",
      "include_colab_link": true
    },
    "kernelspec": {
      "name": "python3",
      "display_name": "Python 3"
    },
    "language_info": {
      "name": "python"
    },
    "accelerator": "GPU",
    "gpuClass": "standard"
  },
  "cells": [
    {
      "cell_type": "markdown",
      "metadata": {
        "id": "view-in-github",
        "colab_type": "text"
      },
      "source": [
        "<a href=\"https://colab.research.google.com/github/revy1817/NLP_BG/blob/main/HomeWork_GPT.ipynb\" target=\"_parent\"><img src=\"https://colab.research.google.com/assets/colab-badge.svg\" alt=\"Open In Colab\"/></a>"
      ]
    },
    {
      "cell_type": "code",
      "source": [
        "!pip install -q datasets transformers"
      ],
      "metadata": {
        "id": "e9TO-9GCBDgH"
      },
      "execution_count": null,
      "outputs": []
    },
    {
      "cell_type": "code",
      "source": [
        "import pandas as pd\n",
        "import numpy as np\n",
        "import torch \n",
        "import re\n",
        "\n",
        "from sklearn.model_selection import train_test_split\n",
        "from transformers import AutoTokenizer, TextDataset, DataCollatorForLanguageModeling, Trainer, TrainingArguments, AutoModelForCausalLM"
      ],
      "metadata": {
        "id": "5iq3o2Av-c0n"
      },
      "execution_count": null,
      "outputs": []
    },
    {
      "cell_type": "code",
      "source": [
        "DATASET_PATH = '/content/drive/MyDrive/Colab Notebooks/Учеба/GeekBrains/Введение в обработку естественного языка/Less 14/dataset.jsonl'"
      ],
      "metadata": {
        "id": "2lUh3ahQ-ceC"
      },
      "execution_count": null,
      "outputs": []
    },
    {
      "cell_type": "code",
      "execution_count": null,
      "metadata": {
        "id": "WNoCpZJB9txV"
      },
      "outputs": [],
      "source": [
        "with open(DATASET_PATH) as f: # open the dataset file\n",
        "    df = pd.read_json(DATASET_PATH, lines=True).set_index('id')"
      ]
    },
    {
      "cell_type": "code",
      "source": [
        "df"
      ],
      "metadata": {
        "colab": {
          "base_uri": "https://localhost:8080/",
          "height": 455
        },
        "id": "d_XvTpaw-6U7",
        "outputId": "4105c661-9d12-453b-e84d-1de785651650"
      },
      "execution_count": null,
      "outputs": [
        {
          "output_type": "execute_result",
          "data": {
            "text/plain": [
              "                            date   rating  \\\n",
              "id                                          \n",
              "1      2004-08-30 11:24:00+00:00  22010.0   \n",
              "2      2004-08-30 11:25:00+00:00  25105.0   \n",
              "3      2004-08-30 11:27:00+00:00   7192.0   \n",
              "4      2004-08-30 11:28:00+00:00  29169.0   \n",
              "5      2004-08-30 11:26:00+00:00   7140.0   \n",
              "...                          ...      ...   \n",
              "463644 2020-11-26 06:12:00+00:00    698.0   \n",
              "463645 2020-11-26 06:12:00+00:00    816.0   \n",
              "463646 2020-11-26 06:46:00+00:00     88.0   \n",
              "463647 2020-11-26 07:11:00+00:00    226.0   \n",
              "463648 2020-11-26 07:11:00+00:00    299.0   \n",
              "\n",
              "                                                     text  \n",
              "id                                                         \n",
              "1       <Ares> ppdv, все юниксы очень дружелюбны.. они...  \n",
              "2       <томатик_рад> а ты не чувствуешь красоту мира?...  \n",
              "3       <Дор> \"мышка, почему у тебя такие большие глаз...  \n",
              "4       <PPDV[os2]> \"Мальчики, вы что больные, бегать ...  \n",
              "5       <Ohtori_Akio> мы - как разработчики - живём с ...  \n",
              "...                                                   ...  \n",
              "463644  xxx: угадайте не гугля, что такое жопиздан!\\ny...  \n",
              "463645  xxx:\\nПосетила шальная мысль заняться собой, ж...  \n",
              "463646  #всебожьяроса\\nxxx: Судьба айтишников вообще н...  \n",
              "463647  Прибывшие на место правоохранители установили,...  \n",
              "463648  ххх: вот ребята из английской фирмы TVR (давны...  \n",
              "\n",
              "[81497 rows x 3 columns]"
            ],
            "text/html": [
              "\n",
              "  <div id=\"df-a02ddd68-17d2-49ac-9cd0-0a165e1653c2\">\n",
              "    <div class=\"colab-df-container\">\n",
              "      <div>\n",
              "<style scoped>\n",
              "    .dataframe tbody tr th:only-of-type {\n",
              "        vertical-align: middle;\n",
              "    }\n",
              "\n",
              "    .dataframe tbody tr th {\n",
              "        vertical-align: top;\n",
              "    }\n",
              "\n",
              "    .dataframe thead th {\n",
              "        text-align: right;\n",
              "    }\n",
              "</style>\n",
              "<table border=\"1\" class=\"dataframe\">\n",
              "  <thead>\n",
              "    <tr style=\"text-align: right;\">\n",
              "      <th></th>\n",
              "      <th>date</th>\n",
              "      <th>rating</th>\n",
              "      <th>text</th>\n",
              "    </tr>\n",
              "    <tr>\n",
              "      <th>id</th>\n",
              "      <th></th>\n",
              "      <th></th>\n",
              "      <th></th>\n",
              "    </tr>\n",
              "  </thead>\n",
              "  <tbody>\n",
              "    <tr>\n",
              "      <th>1</th>\n",
              "      <td>2004-08-30 11:24:00+00:00</td>\n",
              "      <td>22010.0</td>\n",
              "      <td>&lt;Ares&gt; ppdv, все юниксы очень дружелюбны.. они...</td>\n",
              "    </tr>\n",
              "    <tr>\n",
              "      <th>2</th>\n",
              "      <td>2004-08-30 11:25:00+00:00</td>\n",
              "      <td>25105.0</td>\n",
              "      <td>&lt;томатик_рад&gt; а ты не чувствуешь красоту мира?...</td>\n",
              "    </tr>\n",
              "    <tr>\n",
              "      <th>3</th>\n",
              "      <td>2004-08-30 11:27:00+00:00</td>\n",
              "      <td>7192.0</td>\n",
              "      <td>&lt;Дор&gt; \"мышка, почему у тебя такие большие глаз...</td>\n",
              "    </tr>\n",
              "    <tr>\n",
              "      <th>4</th>\n",
              "      <td>2004-08-30 11:28:00+00:00</td>\n",
              "      <td>29169.0</td>\n",
              "      <td>&lt;PPDV[os2]&gt; \"Мальчики, вы что больные, бегать ...</td>\n",
              "    </tr>\n",
              "    <tr>\n",
              "      <th>5</th>\n",
              "      <td>2004-08-30 11:26:00+00:00</td>\n",
              "      <td>7140.0</td>\n",
              "      <td>&lt;Ohtori_Akio&gt; мы - как разработчики - живём с ...</td>\n",
              "    </tr>\n",
              "    <tr>\n",
              "      <th>...</th>\n",
              "      <td>...</td>\n",
              "      <td>...</td>\n",
              "      <td>...</td>\n",
              "    </tr>\n",
              "    <tr>\n",
              "      <th>463644</th>\n",
              "      <td>2020-11-26 06:12:00+00:00</td>\n",
              "      <td>698.0</td>\n",
              "      <td>xxx: угадайте не гугля, что такое жопиздан!\\ny...</td>\n",
              "    </tr>\n",
              "    <tr>\n",
              "      <th>463645</th>\n",
              "      <td>2020-11-26 06:12:00+00:00</td>\n",
              "      <td>816.0</td>\n",
              "      <td>xxx:\\nПосетила шальная мысль заняться собой, ж...</td>\n",
              "    </tr>\n",
              "    <tr>\n",
              "      <th>463646</th>\n",
              "      <td>2020-11-26 06:46:00+00:00</td>\n",
              "      <td>88.0</td>\n",
              "      <td>#всебожьяроса\\nxxx: Судьба айтишников вообще н...</td>\n",
              "    </tr>\n",
              "    <tr>\n",
              "      <th>463647</th>\n",
              "      <td>2020-11-26 07:11:00+00:00</td>\n",
              "      <td>226.0</td>\n",
              "      <td>Прибывшие на место правоохранители установили,...</td>\n",
              "    </tr>\n",
              "    <tr>\n",
              "      <th>463648</th>\n",
              "      <td>2020-11-26 07:11:00+00:00</td>\n",
              "      <td>299.0</td>\n",
              "      <td>ххх: вот ребята из английской фирмы TVR (давны...</td>\n",
              "    </tr>\n",
              "  </tbody>\n",
              "</table>\n",
              "<p>81497 rows × 3 columns</p>\n",
              "</div>\n",
              "      <button class=\"colab-df-convert\" onclick=\"convertToInteractive('df-a02ddd68-17d2-49ac-9cd0-0a165e1653c2')\"\n",
              "              title=\"Convert this dataframe to an interactive table.\"\n",
              "              style=\"display:none;\">\n",
              "        \n",
              "  <svg xmlns=\"http://www.w3.org/2000/svg\" height=\"24px\"viewBox=\"0 0 24 24\"\n",
              "       width=\"24px\">\n",
              "    <path d=\"M0 0h24v24H0V0z\" fill=\"none\"/>\n",
              "    <path d=\"M18.56 5.44l.94 2.06.94-2.06 2.06-.94-2.06-.94-.94-2.06-.94 2.06-2.06.94zm-11 1L8.5 8.5l.94-2.06 2.06-.94-2.06-.94L8.5 2.5l-.94 2.06-2.06.94zm10 10l.94 2.06.94-2.06 2.06-.94-2.06-.94-.94-2.06-.94 2.06-2.06.94z\"/><path d=\"M17.41 7.96l-1.37-1.37c-.4-.4-.92-.59-1.43-.59-.52 0-1.04.2-1.43.59L10.3 9.45l-7.72 7.72c-.78.78-.78 2.05 0 2.83L4 21.41c.39.39.9.59 1.41.59.51 0 1.02-.2 1.41-.59l7.78-7.78 2.81-2.81c.8-.78.8-2.07 0-2.86zM5.41 20L4 18.59l7.72-7.72 1.47 1.35L5.41 20z\"/>\n",
              "  </svg>\n",
              "      </button>\n",
              "      \n",
              "  <style>\n",
              "    .colab-df-container {\n",
              "      display:flex;\n",
              "      flex-wrap:wrap;\n",
              "      gap: 12px;\n",
              "    }\n",
              "\n",
              "    .colab-df-convert {\n",
              "      background-color: #E8F0FE;\n",
              "      border: none;\n",
              "      border-radius: 50%;\n",
              "      cursor: pointer;\n",
              "      display: none;\n",
              "      fill: #1967D2;\n",
              "      height: 32px;\n",
              "      padding: 0 0 0 0;\n",
              "      width: 32px;\n",
              "    }\n",
              "\n",
              "    .colab-df-convert:hover {\n",
              "      background-color: #E2EBFA;\n",
              "      box-shadow: 0px 1px 2px rgba(60, 64, 67, 0.3), 0px 1px 3px 1px rgba(60, 64, 67, 0.15);\n",
              "      fill: #174EA6;\n",
              "    }\n",
              "\n",
              "    [theme=dark] .colab-df-convert {\n",
              "      background-color: #3B4455;\n",
              "      fill: #D2E3FC;\n",
              "    }\n",
              "\n",
              "    [theme=dark] .colab-df-convert:hover {\n",
              "      background-color: #434B5C;\n",
              "      box-shadow: 0px 1px 3px 1px rgba(0, 0, 0, 0.15);\n",
              "      filter: drop-shadow(0px 1px 2px rgba(0, 0, 0, 0.3));\n",
              "      fill: #FFFFFF;\n",
              "    }\n",
              "  </style>\n",
              "\n",
              "      <script>\n",
              "        const buttonEl =\n",
              "          document.querySelector('#df-a02ddd68-17d2-49ac-9cd0-0a165e1653c2 button.colab-df-convert');\n",
              "        buttonEl.style.display =\n",
              "          google.colab.kernel.accessAllowed ? 'block' : 'none';\n",
              "\n",
              "        async function convertToInteractive(key) {\n",
              "          const element = document.querySelector('#df-a02ddd68-17d2-49ac-9cd0-0a165e1653c2');\n",
              "          const dataTable =\n",
              "            await google.colab.kernel.invokeFunction('convertToInteractive',\n",
              "                                                     [key], {});\n",
              "          if (!dataTable) return;\n",
              "\n",
              "          const docLinkHtml = 'Like what you see? Visit the ' +\n",
              "            '<a target=\"_blank\" href=https://colab.research.google.com/notebooks/data_table.ipynb>data table notebook</a>'\n",
              "            + ' to learn more about interactive tables.';\n",
              "          element.innerHTML = '';\n",
              "          dataTable['output_type'] = 'display_data';\n",
              "          await google.colab.output.renderOutput(dataTable, element);\n",
              "          const docLink = document.createElement('div');\n",
              "          docLink.innerHTML = docLinkHtml;\n",
              "          element.appendChild(docLink);\n",
              "        }\n",
              "      </script>\n",
              "    </div>\n",
              "  </div>\n",
              "  "
            ]
          },
          "metadata": {},
          "execution_count": 5
        }
      ]
    },
    {
      "cell_type": "code",
      "source": [
        "def clear_text(text):\n",
        "    clr_text = re.sub(r\"<.*?>\", \" \", text).lower()\n",
        "    clr_text = summary = re.sub(r\"\\s\", \" \", clr_text)\n",
        "    return clr_text"
      ],
      "metadata": {
        "id": "aXjQUY-OSJD8"
      },
      "execution_count": null,
      "outputs": []
    },
    {
      "cell_type": "code",
      "source": [
        "df['text'] = df['text'].apply(clear_text)"
      ],
      "metadata": {
        "id": "aoIXSU0uSKiR"
      },
      "execution_count": null,
      "outputs": []
    },
    {
      "cell_type": "code",
      "source": [
        "data = df.loc[:, 'text']"
      ],
      "metadata": {
        "id": "f_AtivkJFtVM"
      },
      "execution_count": null,
      "outputs": []
    },
    {
      "cell_type": "code",
      "source": [
        "data"
      ],
      "metadata": {
        "colab": {
          "base_uri": "https://localhost:8080/"
        },
        "id": "QrgkfLiwF2da",
        "outputId": "a5627ecb-2380-4d5c-c813-21abbcc26c04"
      },
      "execution_count": null,
      "outputs": [
        {
          "output_type": "execute_result",
          "data": {
            "text/plain": [
              "id\n",
              "1           ppdv, все юниксы очень дружелюбны.. они прос...\n",
              "2           а ты не чувствуешь красоту мира?   честно го...\n",
              "3           \"мышка, почему у тебя такие большие глаза?\" ...\n",
              "4           \"мальчики, вы что больные, бегать в палату к...\n",
              "5           мы - как разработчики - живём с субейзом под...\n",
              "                                ...                        \n",
              "463644    xxx: угадайте не гугля, что такое жопиздан! yy...\n",
              "463645    xxx: посетила шальная мысль заняться собой, жи...\n",
              "463646    #всебожьяроса xxx: судьба айтишников вообще не...\n",
              "463647    прибывшие на место правоохранители установили,...\n",
              "463648    ххх: вот ребята из английской фирмы tvr (давны...\n",
              "Name: text, Length: 81497, dtype: object"
            ]
          },
          "metadata": {},
          "execution_count": 9
        }
      ]
    },
    {
      "cell_type": "code",
      "source": [
        "def build_text_files(data_json, dest_path):\n",
        "    f = open(dest_path, 'w')\n",
        "    data = ''\n",
        "    for texts in data_json:\n",
        "        summary = str(texts).strip()\n",
        "        data += summary + \"  \"\n",
        "    f.write(data)\n",
        "\n",
        "build_text_files(data,'dataset.txt')"
      ],
      "metadata": {
        "id": "VX3PpEeoECiB"
      },
      "execution_count": null,
      "outputs": []
    },
    {
      "cell_type": "code",
      "source": [
        "model_name = 'sberbank-ai/rugpt3small_based_on_gpt2'\n",
        "data_path = 'dataset.txt'\n",
        "\n",
        "tokenizer = AutoTokenizer.from_pretrained(model_name)\n",
        "model = AutoModelForCausalLM.from_pretrained(model_name)"
      ],
      "metadata": {
        "colab": {
          "base_uri": "https://localhost:8080/"
        },
        "id": "_gSaXeH4A3KA",
        "outputId": "398f2a47-a762-4883-d8e6-c2664987dc35"
      },
      "execution_count": null,
      "outputs": [
        {
          "output_type": "stream",
          "name": "stderr",
          "text": [
            "Special tokens have been added in the vocabulary, make sure the associated word embeddings are fine-tuned or trained.\n"
          ]
        }
      ]
    },
    {
      "cell_type": "code",
      "source": [
        "def load_dataset(data_path, tokenizer):\n",
        "  dataset = TextDataset(\n",
        "          tokenizer=tokenizer,\n",
        "          file_path=data_path,\n",
        "          block_size=256)\n",
        "\n",
        "  data_collator = DataCollatorForLanguageModeling(\n",
        "        tokenizer=tokenizer, mlm=False,\n",
        "    )\n",
        "  return dataset, data_collator\n",
        "\n",
        "\n",
        "dataset, data_collator = load_dataset(data_path, tokenizer)"
      ],
      "metadata": {
        "colab": {
          "base_uri": "https://localhost:8080/"
        },
        "id": "iy1bJlNVDHqP",
        "outputId": "8bf4111c-ce09-42c2-91bc-fdf6142dbe9c"
      },
      "execution_count": null,
      "outputs": [
        {
          "output_type": "stream",
          "name": "stderr",
          "text": [
            "/usr/local/lib/python3.7/dist-packages/transformers/data/datasets/language_modeling.py:58: FutureWarning: This dataset will be removed from the library soon, preprocessing should be handled with the 🤗 Datasets library. You can have a look at this example script for pointers: https://github.com/huggingface/transformers/blob/main/examples/pytorch/language-modeling/run_mlm.py\n",
            "  FutureWarning,\n"
          ]
        }
      ]
    },
    {
      "cell_type": "code",
      "source": [
        "training_args = TrainingArguments(\n",
        "    output_dir=\"./gpt2-chief\", #The output directory\n",
        "    num_train_epochs=2, # number of training epochs\n",
        "    per_device_train_batch_size=4, # batch size for training\n",
        "    per_device_eval_batch_size=4,  # batch size for evaluation\n",
        "    warmup_steps=500,# number of warmup steps for learning rate scheduler\n",
        "    )"
      ],
      "metadata": {
        "id": "VqD_YNhSJyDQ"
      },
      "execution_count": null,
      "outputs": []
    },
    {
      "cell_type": "code",
      "source": [
        "trainer = Trainer(\n",
        "    model=model,\n",
        "    args=training_args,\n",
        "    data_collator=data_collator,\n",
        "    train_dataset=dataset\n",
        ")"
      ],
      "metadata": {
        "id": "PZLenp16JypA"
      },
      "execution_count": null,
      "outputs": []
    },
    {
      "cell_type": "code",
      "source": [
        "trainer.train()"
      ],
      "metadata": {
        "colab": {
          "base_uri": "https://localhost:8080/",
          "height": 1000
        },
        "id": "RXxJ7KhZKeXd",
        "outputId": "994e06d0-6e8e-4744-9a8e-2e0d7f8e8e59"
      },
      "execution_count": null,
      "outputs": [
        {
          "output_type": "stream",
          "name": "stderr",
          "text": [
            "/usr/local/lib/python3.7/dist-packages/transformers/optimization.py:310: FutureWarning: This implementation of AdamW is deprecated and will be removed in a future version. Use the PyTorch implementation torch.optim.AdamW instead, or set `no_deprecation_warning=True` to disable this warning\n",
            "  FutureWarning,\n",
            "***** Running training *****\n",
            "  Num examples = 21169\n",
            "  Num Epochs = 2\n",
            "  Instantaneous batch size per device = 4\n",
            "  Total train batch size (w. parallel, distributed & accumulation) = 4\n",
            "  Gradient Accumulation steps = 1\n",
            "  Total optimization steps = 10586\n"
          ]
        },
        {
          "output_type": "display_data",
          "data": {
            "text/plain": [
              "<IPython.core.display.HTML object>"
            ],
            "text/html": [
              "\n",
              "    <div>\n",
              "      \n",
              "      <progress value='10586' max='10586' style='width:300px; height:20px; vertical-align: middle;'></progress>\n",
              "      [10586/10586 58:58, Epoch 2/2]\n",
              "    </div>\n",
              "    <table border=\"1\" class=\"dataframe\">\n",
              "  <thead>\n",
              " <tr style=\"text-align: left;\">\n",
              "      <th>Step</th>\n",
              "      <th>Training Loss</th>\n",
              "    </tr>\n",
              "  </thead>\n",
              "  <tbody>\n",
              "    <tr>\n",
              "      <td>500</td>\n",
              "      <td>4.078500</td>\n",
              "    </tr>\n",
              "    <tr>\n",
              "      <td>1000</td>\n",
              "      <td>4.033300</td>\n",
              "    </tr>\n",
              "    <tr>\n",
              "      <td>1500</td>\n",
              "      <td>4.007000</td>\n",
              "    </tr>\n",
              "    <tr>\n",
              "      <td>2000</td>\n",
              "      <td>3.987500</td>\n",
              "    </tr>\n",
              "    <tr>\n",
              "      <td>2500</td>\n",
              "      <td>3.965700</td>\n",
              "    </tr>\n",
              "    <tr>\n",
              "      <td>3000</td>\n",
              "      <td>3.957500</td>\n",
              "    </tr>\n",
              "    <tr>\n",
              "      <td>3500</td>\n",
              "      <td>3.962100</td>\n",
              "    </tr>\n",
              "    <tr>\n",
              "      <td>4000</td>\n",
              "      <td>3.923500</td>\n",
              "    </tr>\n",
              "    <tr>\n",
              "      <td>4500</td>\n",
              "      <td>3.913400</td>\n",
              "    </tr>\n",
              "    <tr>\n",
              "      <td>5000</td>\n",
              "      <td>3.920100</td>\n",
              "    </tr>\n",
              "    <tr>\n",
              "      <td>5500</td>\n",
              "      <td>3.819600</td>\n",
              "    </tr>\n",
              "    <tr>\n",
              "      <td>6000</td>\n",
              "      <td>3.707800</td>\n",
              "    </tr>\n",
              "    <tr>\n",
              "      <td>6500</td>\n",
              "      <td>3.695400</td>\n",
              "    </tr>\n",
              "    <tr>\n",
              "      <td>7000</td>\n",
              "      <td>3.681000</td>\n",
              "    </tr>\n",
              "    <tr>\n",
              "      <td>7500</td>\n",
              "      <td>3.687900</td>\n",
              "    </tr>\n",
              "    <tr>\n",
              "      <td>8000</td>\n",
              "      <td>3.690600</td>\n",
              "    </tr>\n",
              "    <tr>\n",
              "      <td>8500</td>\n",
              "      <td>3.693100</td>\n",
              "    </tr>\n",
              "    <tr>\n",
              "      <td>9000</td>\n",
              "      <td>3.679700</td>\n",
              "    </tr>\n",
              "    <tr>\n",
              "      <td>9500</td>\n",
              "      <td>3.697800</td>\n",
              "    </tr>\n",
              "    <tr>\n",
              "      <td>10000</td>\n",
              "      <td>3.673500</td>\n",
              "    </tr>\n",
              "    <tr>\n",
              "      <td>10500</td>\n",
              "      <td>3.679400</td>\n",
              "    </tr>\n",
              "  </tbody>\n",
              "</table><p>"
            ]
          },
          "metadata": {}
        },
        {
          "output_type": "stream",
          "name": "stderr",
          "text": [
            "Saving model checkpoint to ./gpt2-chief/checkpoint-500\n",
            "Configuration saved in ./gpt2-chief/checkpoint-500/config.json\n",
            "Model weights saved in ./gpt2-chief/checkpoint-500/pytorch_model.bin\n",
            "Saving model checkpoint to ./gpt2-chief/checkpoint-1000\n",
            "Configuration saved in ./gpt2-chief/checkpoint-1000/config.json\n",
            "Model weights saved in ./gpt2-chief/checkpoint-1000/pytorch_model.bin\n",
            "Saving model checkpoint to ./gpt2-chief/checkpoint-1500\n",
            "Configuration saved in ./gpt2-chief/checkpoint-1500/config.json\n",
            "Model weights saved in ./gpt2-chief/checkpoint-1500/pytorch_model.bin\n",
            "Saving model checkpoint to ./gpt2-chief/checkpoint-2000\n",
            "Configuration saved in ./gpt2-chief/checkpoint-2000/config.json\n",
            "Model weights saved in ./gpt2-chief/checkpoint-2000/pytorch_model.bin\n",
            "Saving model checkpoint to ./gpt2-chief/checkpoint-2500\n",
            "Configuration saved in ./gpt2-chief/checkpoint-2500/config.json\n",
            "Model weights saved in ./gpt2-chief/checkpoint-2500/pytorch_model.bin\n",
            "Saving model checkpoint to ./gpt2-chief/checkpoint-3000\n",
            "Configuration saved in ./gpt2-chief/checkpoint-3000/config.json\n",
            "Model weights saved in ./gpt2-chief/checkpoint-3000/pytorch_model.bin\n",
            "Saving model checkpoint to ./gpt2-chief/checkpoint-3500\n",
            "Configuration saved in ./gpt2-chief/checkpoint-3500/config.json\n",
            "Model weights saved in ./gpt2-chief/checkpoint-3500/pytorch_model.bin\n",
            "Saving model checkpoint to ./gpt2-chief/checkpoint-4000\n",
            "Configuration saved in ./gpt2-chief/checkpoint-4000/config.json\n",
            "Model weights saved in ./gpt2-chief/checkpoint-4000/pytorch_model.bin\n",
            "Saving model checkpoint to ./gpt2-chief/checkpoint-4500\n",
            "Configuration saved in ./gpt2-chief/checkpoint-4500/config.json\n",
            "Model weights saved in ./gpt2-chief/checkpoint-4500/pytorch_model.bin\n",
            "Saving model checkpoint to ./gpt2-chief/checkpoint-5000\n",
            "Configuration saved in ./gpt2-chief/checkpoint-5000/config.json\n",
            "Model weights saved in ./gpt2-chief/checkpoint-5000/pytorch_model.bin\n",
            "Saving model checkpoint to ./gpt2-chief/checkpoint-5500\n",
            "Configuration saved in ./gpt2-chief/checkpoint-5500/config.json\n",
            "Model weights saved in ./gpt2-chief/checkpoint-5500/pytorch_model.bin\n",
            "Saving model checkpoint to ./gpt2-chief/checkpoint-6000\n",
            "Configuration saved in ./gpt2-chief/checkpoint-6000/config.json\n",
            "Model weights saved in ./gpt2-chief/checkpoint-6000/pytorch_model.bin\n",
            "Saving model checkpoint to ./gpt2-chief/checkpoint-6500\n",
            "Configuration saved in ./gpt2-chief/checkpoint-6500/config.json\n",
            "Model weights saved in ./gpt2-chief/checkpoint-6500/pytorch_model.bin\n",
            "Saving model checkpoint to ./gpt2-chief/checkpoint-7000\n",
            "Configuration saved in ./gpt2-chief/checkpoint-7000/config.json\n",
            "Model weights saved in ./gpt2-chief/checkpoint-7000/pytorch_model.bin\n",
            "Saving model checkpoint to ./gpt2-chief/checkpoint-7500\n",
            "Configuration saved in ./gpt2-chief/checkpoint-7500/config.json\n",
            "Model weights saved in ./gpt2-chief/checkpoint-7500/pytorch_model.bin\n",
            "Saving model checkpoint to ./gpt2-chief/checkpoint-8000\n",
            "Configuration saved in ./gpt2-chief/checkpoint-8000/config.json\n",
            "Model weights saved in ./gpt2-chief/checkpoint-8000/pytorch_model.bin\n",
            "Saving model checkpoint to ./gpt2-chief/checkpoint-8500\n",
            "Configuration saved in ./gpt2-chief/checkpoint-8500/config.json\n",
            "Model weights saved in ./gpt2-chief/checkpoint-8500/pytorch_model.bin\n",
            "Saving model checkpoint to ./gpt2-chief/checkpoint-9000\n",
            "Configuration saved in ./gpt2-chief/checkpoint-9000/config.json\n",
            "Model weights saved in ./gpt2-chief/checkpoint-9000/pytorch_model.bin\n",
            "Saving model checkpoint to ./gpt2-chief/checkpoint-9500\n",
            "Configuration saved in ./gpt2-chief/checkpoint-9500/config.json\n",
            "Model weights saved in ./gpt2-chief/checkpoint-9500/pytorch_model.bin\n",
            "Saving model checkpoint to ./gpt2-chief/checkpoint-10000\n",
            "Configuration saved in ./gpt2-chief/checkpoint-10000/config.json\n",
            "Model weights saved in ./gpt2-chief/checkpoint-10000/pytorch_model.bin\n",
            "Saving model checkpoint to ./gpt2-chief/checkpoint-10500\n",
            "Configuration saved in ./gpt2-chief/checkpoint-10500/config.json\n",
            "Model weights saved in ./gpt2-chief/checkpoint-10500/pytorch_model.bin\n",
            "\n",
            "\n",
            "Training completed. Do not forget to share your model on huggingface.co/models =)\n",
            "\n",
            "\n"
          ]
        },
        {
          "output_type": "execute_result",
          "data": {
            "text/plain": [
              "TrainOutput(global_step=10586, training_loss=3.829743656840956, metrics={'train_runtime': 3539.4608, 'train_samples_per_second': 11.962, 'train_steps_per_second': 2.991, 'total_flos': 5531291025408000.0, 'train_loss': 3.829743656840956, 'epoch': 2.0})"
            ]
          },
          "metadata": {},
          "execution_count": 15
        }
      ]
    },
    {
      "cell_type": "code",
      "source": [
        "def generate_text(prefix):\n",
        "    tokens = tokenizer(prefix, return_tensors='pt').to('cuda')\n",
        "    size = tokens['input_ids'].shape[1]\n",
        "    output = model.generate(\n",
        "        **tokens, \n",
        "        do_sample=False,\n",
        "        max_length=size+100, \n",
        "        repetition_penalty=5., \n",
        "        temperature=2,\n",
        "        num_beams=10,\n",
        "    )\n",
        "\n",
        "    decoded = tokenizer.decode(output[0])\n",
        "    result = decoded[len(prefix):]\n",
        "    return prefix + result"
      ],
      "metadata": {
        "id": "0noHrxDwXrdW"
      },
      "execution_count": null,
      "outputs": []
    },
    {
      "cell_type": "code",
      "source": [
        "print(generate_text(\"xxx: программисты\"))"
      ],
      "metadata": {
        "colab": {
          "base_uri": "https://localhost:8080/"
        },
        "id": "5YqVvZXdjAbv",
        "outputId": "d2de34b2-ff9b-4afc-8783-30ba4725a109"
      },
      "execution_count": null,
      "outputs": [
        {
          "output_type": "stream",
          "name": "stderr",
          "text": [
            "Setting `pad_token_id` to `eos_token_id`:50256 for open-end generation.\n"
          ]
        },
        {
          "output_type": "stream",
          "name": "stdout",
          "text": [
            "xxx: программисты, блин.  xxxx: а у нас в офисе на стене висит табличка с надписью \"не курить\" yyy: и что это значит? xxxx: я не курю =)  ххх: привет! как дела? ууу: да все нормально... ххх: давай познакомимся? ууу: о_о ххх: ты меня любишь? ууу: ммммм....у тебя есть девушка? ууу: нет\n"
          ]
        }
      ]
    },
    {
      "cell_type": "code",
      "source": [
        "print(generate_text(\"xxx: вчера пошел погулять\"))"
      ],
      "metadata": {
        "colab": {
          "base_uri": "https://localhost:8080/"
        },
        "id": "i8ZOm1-hlkty",
        "outputId": "ab85bd56-2de1-40e0-fb9b-55b12e085ca7"
      },
      "execution_count": null,
      "outputs": [
        {
          "output_type": "stream",
          "name": "stderr",
          "text": [
            "Setting `pad_token_id` to `eos_token_id`:50256 for open-end generation.\n"
          ]
        },
        {
          "output_type": "stream",
          "name": "stdout",
          "text": [
            "xxx: вчера пошел погулять с собакой. xxxxx: а она на меня смотрит, как на идиота! yyyyyy: ну и что? xxxxx: я ей говорю \"я не идиот\"  ххх: у нас в школе была традиция - если кто-то из учеников писал контрольную по алгебре или геометрии, то это означало, что он был готов к тому, что его постигнет та же судьба, что и всех остальных ((( \n"
          ]
        }
      ]
    },
    {
      "cell_type": "code",
      "source": [
        "print(generate_text(\"xxx: друг работает админом\"))"
      ],
      "metadata": {
        "colab": {
          "base_uri": "https://localhost:8080/"
        },
        "id": "0bHj30Inl7Aq",
        "outputId": "4030e277-ae03-472c-be69-88d7288cb757"
      },
      "execution_count": null,
      "outputs": [
        {
          "output_type": "stream",
          "name": "stderr",
          "text": [
            "Setting `pad_token_id` to `eos_token_id`:50256 for open-end generation.\n"
          ]
        },
        {
          "output_type": "stream",
          "name": "stdout",
          "text": [
            "xxx: друг работает админом в техподдержке одного провайдера. xxxxx: он говорит, что у него нет доступа к интернету из-за того, что ему не хватает места на жестком диске... yyyy: ну и? xxxx: а то!  ххх: когда я учился в универе, мы с девчонками играли в компьютерные игры типа \"угадай загадку\" или \"сделай так, чтобы все было по-твоему\".\n"
          ]
        }
      ]
    },
    {
      "cell_type": "code",
      "source": [
        "print(generate_text(\"xxx: я пришел домой а там\"))"
      ],
      "metadata": {
        "colab": {
          "base_uri": "https://localhost:8080/"
        },
        "id": "Qk4XPGbUmet4",
        "outputId": "2f70bbe1-9653-468e-edfa-1db81cb5d2a5"
      },
      "execution_count": null,
      "outputs": [
        {
          "output_type": "stream",
          "name": "stderr",
          "text": [
            "Setting `pad_token_id` to `eos_token_id`:50256 for open-end generation.\n"
          ]
        },
        {
          "output_type": "stream",
          "name": "stdout",
          "text": [
            "xxx: я пришел домой а там на столе записка с надписью \"привет, как дела?\" xxxxx: что-то в этом роде yyyy: и? xxxx: это был мой первый рабочий день!  ххх: у меня есть один знакомый программист. он не очень любит когда его спрашивают о чем-то постороннем (в том числе об компьютерах), но при этом никогда не обижается по поводу того, что кто-то может сказать ему то же самое. поэтому\n"
          ]
        }
      ]
    },
    {
      "cell_type": "code",
      "source": [
        "print(generate_text(\"xxx: меня бросила жена\"))"
      ],
      "metadata": {
        "colab": {
          "base_uri": "https://localhost:8080/"
        },
        "id": "sZAjTi03m5_Q",
        "outputId": "21d6968d-e51c-4e16-f820-e19038dc9026"
      },
      "execution_count": null,
      "outputs": [
        {
          "output_type": "stream",
          "name": "stderr",
          "text": [
            "Setting `pad_token_id` to `eos_token_id`:50256 for open-end generation.\n"
          ]
        },
        {
          "output_type": "stream",
          "name": "stdout",
          "text": [
            "xxx: меня бросила жена. xxxxx: я не знаю, что делать yyyyy: в смысле? xxxx: у нас с женой разные взгляды на жизнь  ххх: а как ты относишься к тому, что после того, как твоя девушка рассталась с тобой, тебе становится стыдно за то, что она до сих пор не рассталась с тобой? ууу: честно говоря, это было бы гораздо проще, если бы моя девушка рассталась с кем-то другим\n"
          ]
        }
      ]
    },
    {
      "cell_type": "markdown",
      "source": [
        "В целом модель очень хорошо справляется с генерацией"
      ],
      "metadata": {
        "id": "PnIYnAI6oJgY"
      }
    }
  ]
}